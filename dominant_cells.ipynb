{
 "cells": [
  {
   "cell_type": "markdown",
   "id": "c102aaf8",
   "metadata": {},
   "source": [
    "## Dominant Cells\n",
    "\n",
    "There is a given list of lists of interger that represent a 2-dimensional grid with _n_ rows and _m_ columns.\n",
    "A cell is called a dominat cell if it has a strictly greater value than all of its neighbors.\n",
    "Two cells are neighbors when they share a common side or a common corner, so a cell can have up to 8 neighbors.\n",
    "Find the number of dominant cells in the grid.\n",
    "\n",
    "**Function Description**\n",
    "- Complete the function _numCells_ in the editor below.\n",
    "\n",
    "_numCells_ has the following parameter(s):\n",
    "> _int grid[n][m]_: a 2-dimensional array of integers\n",
    "\n",
    "**Returns**\n",
    "> _int_: the number of dominant cells in the grid.\n",
    "\n",
    "**Constrains**\n",
    "- 1 <= n,m <= 500\n",
    "- There are at least 2 cells in the grid.\n",
    "- 1 <= grid[i][j] <= 100"
   ]
  },
  {
   "cell_type": "code",
   "execution_count": 25,
   "id": "7c09f9c0",
   "metadata": {},
   "outputs": [],
   "source": [
    "def numCells(my_grid):\n",
    "    num_of_dominant_cells = 0\n",
    "    matrix = ''\n",
    "    \n",
    "    for i in range(len(my_grid)):\n",
    "        #print(my_grid[i])\n",
    "        neighbors = []\n",
    "        for j in range(len(my_grid[i])):\n",
    "            matrix += str(my_grid[i][j]) + ' '\n",
    "            \n",
    "        print(neighbors)\n",
    "        \n",
    "        matrix += '\\n'\n",
    "    print(matrix)\n",
    "    return num_of_dominant_cells"
   ]
  },
  {
   "cell_type": "code",
   "execution_count": 26,
   "id": "da944c7b",
   "metadata": {},
   "outputs": [
    {
     "name": "stdout",
     "output_type": "stream",
     "text": [
      "[]\n",
      "[]\n",
      "[]\n",
      "[]\n",
      "3 4 6 8 \n",
      "9 7 8 1 \n",
      "1 3 2 5 \n",
      "4 5 3 2 \n",
      "\n",
      "0\n"
     ]
    }
   ],
   "source": [
    "test_grid = [[3, 4, 6, 8], [9, 7, 8, 1], [1, 3, 2, 5], [4, 5, 3, 2]]\n",
    "print(numCells(test_grid))"
   ]
  },
  {
   "cell_type": "code",
   "execution_count": null,
   "id": "2164a396",
   "metadata": {},
   "outputs": [],
   "source": []
  }
 ],
 "metadata": {
  "kernelspec": {
   "display_name": "Python 3 (ipykernel)",
   "language": "python",
   "name": "python3"
  },
  "language_info": {
   "codemirror_mode": {
    "name": "ipython",
    "version": 3
   },
   "file_extension": ".py",
   "mimetype": "text/x-python",
   "name": "python",
   "nbconvert_exporter": "python",
   "pygments_lexer": "ipython3",
   "version": "3.9.12"
  }
 },
 "nbformat": 4,
 "nbformat_minor": 5
}
