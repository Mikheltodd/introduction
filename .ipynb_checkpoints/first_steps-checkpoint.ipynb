{
 "cells": [
  {
   "cell_type": "markdown",
   "id": "d9787d3b",
   "metadata": {},
   "source": [
    "# Introducción a Python\n",
    "\n",
    "## Primeros Pasos\n",
    "\n",
    "Este es un párrafo. Aquí podemos escribir lo que querramos.\n",
    "\n",
    "### Lista de Compra\n",
    "- Pan\n",
    "- Huevo\n",
    "- Queso\n",
    "- Plátano\n",
    "    - Verde\n",
    "    - Maduro\n",
    "- Pollo\n",
    "* **Carne**\n",
    "- _Atún_\n",
    "\n",
    "### Receta de Arroz\n",
    "1. Sofritar Ajo\n",
    "2. Hervir el agua\n",
    "3. Agregar el arroz\n",
    "\n",
    "### Código\n",
    "\n",
    "La variable `m` es la pendiente, y `x` es la distancia.\n",
    "\n",
    "```python\n",
    "\n",
    "y = mx + b\n",
    "```\n",
    "\n",
    "### Ecuaciones\n",
    "\n",
    "$$y = mx + b$$\n",
    "\n",
    "La variable $m$ es la pendiente, y $x$ es la distancia.\n",
    "\n",
    "$$\\eta = \\frac{P_{out}}{P_{in}}$$\n",
    "\n",
    "$$e^{-jx} = \\cos{x} + j \\sin{x}$$\n",
    "\n",
    "$$c^2 = \\sqrt{a^2 + b^2}$$\n",
    "\n",
    "$\\alpha, \\beta, \\gamma$"
   ]
  },
  {
   "cell_type": "code",
   "execution_count": 2,
   "id": "7e57ef3d",
   "metadata": {},
   "outputs": [],
   "source": [
    "x = 1\n",
    "y = 2"
   ]
  },
  {
   "cell_type": "code",
   "execution_count": 9,
   "id": "8287dfe2",
   "metadata": {},
   "outputs": [
    {
     "name": "stdout",
     "output_type": "stream",
     "text": [
      "1\n",
      "2\n"
     ]
    }
   ],
   "source": [
    "print(x)\n",
    "print(y)"
   ]
  },
  {
   "cell_type": "code",
   "execution_count": 11,
   "id": "2744202b",
   "metadata": {},
   "outputs": [],
   "source": [
    "x += 10"
   ]
  },
  {
   "cell_type": "code",
   "execution_count": 12,
   "id": "99619358",
   "metadata": {},
   "outputs": [
    {
     "name": "stdout",
     "output_type": "stream",
     "text": [
      "11\n"
     ]
    }
   ],
   "source": [
    "print(x)"
   ]
  },
  {
   "cell_type": "markdown",
   "id": "017d83fe",
   "metadata": {},
   "source": [
    "## Día 1"
   ]
  },
  {
   "cell_type": "code",
   "execution_count": 1,
   "id": "6f484ed1",
   "metadata": {},
   "outputs": [
    {
     "name": "stdout",
     "output_type": "stream",
     "text": [
      "Hola Mundo\n"
     ]
    }
   ],
   "source": [
    "# Este es un comentario\n",
    "# Se utilizan para dar contexto, explicar y probar\n",
    "\n",
    "print(\"Hola Mundo\")"
   ]
  },
  {
   "cell_type": "code",
   "execution_count": 2,
   "id": "4298af63",
   "metadata": {},
   "outputs": [],
   "source": [
    "my_name = \"Miguel\""
   ]
  },
  {
   "cell_type": "code",
   "execution_count": 3,
   "id": "a3c6c61f",
   "metadata": {},
   "outputs": [
    {
     "name": "stdout",
     "output_type": "stream",
     "text": [
      "Miguel\n"
     ]
    }
   ],
   "source": [
    "print(my_name)"
   ]
  },
  {
   "cell_type": "code",
   "execution_count": 6,
   "id": "e8f982b4",
   "metadata": {},
   "outputs": [
    {
     "name": "stdout",
     "output_type": "stream",
     "text": [
      "7.5\n",
      "<class 'int'>\n",
      "<class 'float'>\n",
      "<class 'float'>\n"
     ]
    }
   ],
   "source": [
    "a = 3\n",
    "b = 4.5\n",
    "c = a + b\n",
    "print(c)\n",
    "print(type(a))\n",
    "print(type(b))\n",
    "print(type(c))"
   ]
  },
  {
   "cell_type": "code",
   "execution_count": 13,
   "id": "84f494b2",
   "metadata": {},
   "outputs": [
    {
     "name": "stdout",
     "output_type": "stream",
     "text": [
      "5\n",
      "56.25\n",
      "7.5\n",
      "1.5\n"
     ]
    },
    {
     "data": {
      "text/plain": [
       "56"
      ]
     },
     "execution_count": 13,
     "metadata": {},
     "output_type": "execute_result"
    }
   ],
   "source": [
    "a = 5\n",
    "print(a)\n",
    "print(c**2)\n",
    "print(c)\n",
    "print(c%2)\n",
    "28*2"
   ]
  },
  {
   "cell_type": "code",
   "execution_count": 16,
   "id": "1cb1d1af",
   "metadata": {},
   "outputs": [
    {
     "name": "stdout",
     "output_type": "stream",
     "text": [
      "MiguelOrtiz\n",
      "3\n"
     ]
    },
    {
     "ename": "TypeError",
     "evalue": "unsupported operand type(s) for +: 'int' and 'str'",
     "output_type": "error",
     "traceback": [
      "\u001b[1;31m---------------------------------------------------------------------------\u001b[0m",
      "\u001b[1;31mTypeError\u001b[0m                                 Traceback (most recent call last)",
      "Input \u001b[1;32mIn [16]\u001b[0m, in \u001b[0;36m<cell line: 4>\u001b[1;34m()\u001b[0m\n\u001b[0;32m      2\u001b[0m \u001b[38;5;28mprint\u001b[39m(my_name \u001b[38;5;241m+\u001b[39m my_lastname)\n\u001b[0;32m      3\u001b[0m \u001b[38;5;28mprint\u001b[39m(\u001b[38;5;241m1\u001b[39m \u001b[38;5;241m+\u001b[39m \u001b[38;5;241m2\u001b[39m)\n\u001b[1;32m----> 4\u001b[0m \u001b[38;5;28mprint\u001b[39m(\u001b[38;5;241;43m1\u001b[39;49m\u001b[43m \u001b[49m\u001b[38;5;241;43m+\u001b[39;49m\u001b[43m \u001b[49m\u001b[43mmy_name\u001b[49m)\n",
      "\u001b[1;31mTypeError\u001b[0m: unsupported operand type(s) for +: 'int' and 'str'"
     ]
    }
   ],
   "source": [
    "my_lastname = \"Ortiz\"\n",
    "print(my_name + my_lastname)\n",
    "print(1 + 2)\n",
    "print(1 + my_name)"
   ]
  },
  {
   "cell_type": "code",
   "execution_count": 17,
   "id": "64971e11",
   "metadata": {},
   "outputs": [
    {
     "name": "stdout",
     "output_type": "stream",
     "text": [
      "1000\n",
      "1500\n"
     ]
    }
   ],
   "source": [
    "a = 1000\n",
    "print(a)\n",
    "a += 500\n",
    "print(a)"
   ]
  },
  {
   "cell_type": "code",
   "execution_count": 19,
   "id": "6bf229e2",
   "metadata": {},
   "outputs": [
    {
     "name": "stdout",
     "output_type": "stream",
     "text": [
      "\n",
      "Este es un párrafo\n",
      "en diferentes líneas\n",
      "\n"
     ]
    }
   ],
   "source": [
    "paragraph =  \"\"\"\n",
    "Este es un párrafo\n",
    "en diferentes líneas\n",
    "\"\"\"\n",
    "print(paragraph)"
   ]
  },
  {
   "cell_type": "code",
   "execution_count": 24,
   "id": "d51034c4",
   "metadata": {},
   "outputs": [
    {
     "name": "stdout",
     "output_type": "stream",
     "text": [
      "Usted es menor de edad\n"
     ]
    }
   ],
   "source": [
    "age = 16\n",
    "year = 2022\n",
    "if (age > 18) and (year > 1991) :\n",
    "    print(\"Usted es mayor de edad.\")\n",
    "else:\n",
    "    print(\"Usted es menor de edad\")"
   ]
  },
  {
   "cell_type": "code",
   "execution_count": 28,
   "id": "551edcd6",
   "metadata": {},
   "outputs": [
    {
     "name": "stdout",
     "output_type": "stream",
     "text": [
      "¿Cuántos años tienes? 30\n",
      "Su año de nacimiento es 1992\n"
     ]
    }
   ],
   "source": [
    "current_year = 2022\n",
    "age = int(input(\"¿Cuántos años tienes? \"))\n",
    "print(\"Su año de nacimiento es \" + str(current_year - age))"
   ]
  },
  {
   "cell_type": "code",
   "execution_count": 34,
   "id": "c83d7835",
   "metadata": {},
   "outputs": [
    {
     "name": "stdout",
     "output_type": "stream",
     "text": [
      "Ingrese límite inferior: -3\n",
      "Ingrese límite superior: 5\n",
      "Ingrese el valor a comparar: 0\n",
      "El valor ingresado se encuentra en el límite indicado.\n"
     ]
    }
   ],
   "source": [
    "low_limit = float(input(\"Ingrese límite inferior: \"))\n",
    "upper_limit = float(input(\"Ingrese límite superior: \"))\n",
    "if low_limit > upper_limit:\n",
    "    print(\"El límite inferior es mayor que el límite superior.\")\n",
    "else: \n",
    "    value = float(input(\"Ingrese el valor a comparar: \"))\n",
    "    if (value > low_limit) and (value < upper_limit):\n",
    "        print(\"El valor ingresado se encuentra en el límite indicado.\")\n",
    "    else:\n",
    "        print(\"El valor ingresado NO se encuentra en el límite indicado.\")"
   ]
  },
  {
   "cell_type": "code",
   "execution_count": 33,
   "id": "1e43952c",
   "metadata": {},
   "outputs": [
    {
     "name": "stdout",
     "output_type": "stream",
     "text": [
      "Ingrese el primer nombre: Miguel\n",
      "Ingrese el segundo nombre: miguel\n",
      "Los nombres son iguales.\n"
     ]
    }
   ],
   "source": [
    "name_1 = input(\"Ingrese el primer nombre: \")\n",
    "name_2 = input(\"Ingrese el segundo nombre: \")\n",
    "if name_1.lower() == name_2.lower():\n",
    "    print(\"Los nombres son iguales.\")\n",
    "else:\n",
    "    print(\"Los nombres son diferentes.\")"
   ]
  },
  {
   "cell_type": "code",
   "execution_count": 35,
   "id": "c3d1e90e",
   "metadata": {},
   "outputs": [
    {
     "name": "stdout",
     "output_type": "stream",
     "text": [
      "Ingrese la calificación de la película (0 - 10): 5\n",
      "La película es mala.\n"
     ]
    }
   ],
   "source": [
    "rating = int(input(\"Ingrese la calificación de la película (0 - 10): \"))\n",
    "if rating > 8:\n",
    "    print(\"La película es excelente.\")\n",
    "elif rating  > 6:\n",
    "    print(\"La película es buena.\")\n",
    "else:\n",
    "    print(\"La película es mala.\")"
   ]
  },
  {
   "cell_type": "code",
   "execution_count": 49,
   "id": "e9fa699b",
   "metadata": {},
   "outputs": [
    {
     "name": "stdout",
     "output_type": "stream",
     "text": [
      "Ingrese el primer número: 9\n",
      "Ingrese el segundo número: 4\n",
      "Ingrese el tercer número: 2\n",
      "El número mayor es 9.0\n"
     ]
    }
   ],
   "source": [
    "a = float(input(\"Ingrese el primer número: \"))\n",
    "b = float(input(\"Ingrese el segundo número: \"))\n",
    "c = float(input(\"Ingrese el tercer número: \"))\n",
    "if (a == b) and (b == c):\n",
    "    print(\"Los tres números son iguales.\")\n",
    "elif (a >= b) and (a >= c):\n",
    "    print(\"El número mayor es \" + str(a))\n",
    "elif (b >= a) and (b >= c):\n",
    "    print(\"El número mayor es \" + str(b))\n",
    "elif (c >= a) and (c >= b):\n",
    "    print(\"El número mayor es \" + str(c))"
   ]
  },
  {
   "cell_type": "code",
   "execution_count": 43,
   "id": "0b3f8b2c",
   "metadata": {},
   "outputs": [
    {
     "name": "stdout",
     "output_type": "stream",
     "text": [
      "Ingrese n: 30\n",
      "Not Weird\n"
     ]
    }
   ],
   "source": [
    "n = int(input(\"Ingrese n: \"))\n",
    "if (n%2 != 0) or ((n >= 6) and (n <= 20)):\n",
    "    print(\"Weird\")\n",
    "elif (n%2 == 0) or ((n >= 2) and (n <= 5)):\n",
    "    print(\"Not Weird\")"
   ]
  },
  {
   "cell_type": "markdown",
   "id": "62964c54",
   "metadata": {},
   "source": [
    "## Día 2"
   ]
  },
  {
   "cell_type": "markdown",
   "id": "1f50e036",
   "metadata": {},
   "source": [
    "## Listas"
   ]
  },
  {
   "cell_type": "code",
   "execution_count": 1,
   "id": "964ca75c",
   "metadata": {},
   "outputs": [
    {
     "name": "stdout",
     "output_type": "stream",
     "text": [
      "['manzana', 'naranja', 'pera', 'banano']\n"
     ]
    }
   ],
   "source": [
    "fruits = ['manzana', 'naranja', 'pera', 'banano']\n",
    "print(fruits)"
   ]
  },
  {
   "cell_type": "code",
   "execution_count": 2,
   "id": "2e350917",
   "metadata": {},
   "outputs": [
    {
     "name": "stdout",
     "output_type": "stream",
     "text": [
      "[1, 3.6, 'Casa', 'Gato', True]\n"
     ]
    }
   ],
   "source": [
    "random_elements = [1, 3.6, 'Casa', 'Gato', True]\n",
    "print(random_elements)"
   ]
  },
  {
   "cell_type": "code",
   "execution_count": 3,
   "id": "a1f92748",
   "metadata": {},
   "outputs": [
    {
     "name": "stdout",
     "output_type": "stream",
     "text": [
      "['manzana', 'naranja', 'pera', 'banano', 'piña']\n"
     ]
    }
   ],
   "source": [
    "fruits.append('piña')\n",
    "print(fruits)"
   ]
  },
  {
   "cell_type": "code",
   "execution_count": 4,
   "id": "51b14680",
   "metadata": {},
   "outputs": [
    {
     "name": "stdout",
     "output_type": "stream",
     "text": [
      "['manzana', 'naranja', 'pera', 'banano', 'piña', 'fresa', 'limón', 'mango']\n"
     ]
    }
   ],
   "source": [
    "other_fruits = ['fresa', 'limón', 'mango']\n",
    "fruits += other_fruits\n",
    "print(fruits)"
   ]
  },
  {
   "cell_type": "code",
   "execution_count": 5,
   "id": "47273883",
   "metadata": {},
   "outputs": [
    {
     "name": "stdout",
     "output_type": "stream",
     "text": [
      "manzana\n",
      "mango\n"
     ]
    }
   ],
   "source": [
    "first_fruit = fruits[0]\n",
    "last_fruit = fruits[-1]\n",
    "print(first_fruit)\n",
    "print(last_fruit)"
   ]
  },
  {
   "cell_type": "code",
   "execution_count": 6,
   "id": "08f5bde4",
   "metadata": {},
   "outputs": [
    {
     "name": "stdout",
     "output_type": "stream",
     "text": [
      "pera\n"
     ]
    }
   ],
   "source": [
    "print(fruits[2])"
   ]
  },
  {
   "cell_type": "code",
   "execution_count": 8,
   "id": "a784ec6f",
   "metadata": {},
   "outputs": [
    {
     "name": "stdout",
     "output_type": "stream",
     "text": [
      "Lista de frutas: ['manzana', 'naranja', 'pera', 'banano', 'piña', 'fresa', 'limón', 'mango']\n"
     ]
    }
   ],
   "source": [
    "print(\"Lista de frutas: \" + str(fruits))"
   ]
  },
  {
   "cell_type": "code",
   "execution_count": 9,
   "id": "9605e9f1",
   "metadata": {},
   "outputs": [
    {
     "name": "stdout",
     "output_type": "stream",
     "text": [
      "['manzana', 'naranja', 'coco', 'banano', 'piña', 'fresa', 'limón', 'mango']\n"
     ]
    }
   ],
   "source": [
    "fruits[2] = 'coco'\n",
    "print(fruits)"
   ]
  },
  {
   "cell_type": "code",
   "execution_count": 11,
   "id": "48fc3422",
   "metadata": {},
   "outputs": [],
   "source": [
    "fruits.remove(\"banano\")"
   ]
  },
  {
   "cell_type": "code",
   "execution_count": 12,
   "id": "e1b2b118",
   "metadata": {},
   "outputs": [
    {
     "name": "stdout",
     "output_type": "stream",
     "text": [
      "['manzana', 'naranja', 'coco', 'piña', 'fresa', 'limón', 'mango']\n"
     ]
    }
   ],
   "source": [
    "print(fruits)"
   ]
  },
  {
   "cell_type": "code",
   "execution_count": 15,
   "id": "9ab86eaa",
   "metadata": {},
   "outputs": [
    {
     "name": "stdout",
     "output_type": "stream",
     "text": [
      "500\n"
     ]
    }
   ],
   "source": [
    "fruits_prices = [['manzana', 3000], ['banano', 500], ['piña', 2000]]\n",
    "print(fruits_prices[1][-1])"
   ]
  },
  {
   "cell_type": "code",
   "execution_count": 16,
   "id": "f829dbd7",
   "metadata": {},
   "outputs": [
    {
     "name": "stdout",
     "output_type": "stream",
     "text": [
      "['manzana', 'naranja', 'coco', 'maracuyá', 'piña', 'fresa', 'limón', 'mango']\n"
     ]
    }
   ],
   "source": [
    "fruits.insert(3, 'maracuyá')\n",
    "print(fruits)"
   ]
  },
  {
   "cell_type": "code",
   "execution_count": 17,
   "id": "783ee51f",
   "metadata": {},
   "outputs": [],
   "source": [
    "fruits.insert(-3, 'melón')"
   ]
  },
  {
   "cell_type": "code",
   "execution_count": 18,
   "id": "0e621a50",
   "metadata": {},
   "outputs": [
    {
     "name": "stdout",
     "output_type": "stream",
     "text": [
      "['manzana', 'naranja', 'coco', 'maracuyá', 'piña', 'melón', 'fresa', 'limón', 'mango']\n"
     ]
    }
   ],
   "source": [
    "print(fruits)"
   ]
  },
  {
   "cell_type": "code",
   "execution_count": 19,
   "id": "cd501eae",
   "metadata": {},
   "outputs": [
    {
     "name": "stdout",
     "output_type": "stream",
     "text": [
      "['manzana', 'naranja', 'coco', 'maracuyá', 'piña', 'melón', 'fresa', 'limón']\n"
     ]
    }
   ],
   "source": [
    "fruits.pop()\n",
    "print(fruits)"
   ]
  },
  {
   "cell_type": "code",
   "execution_count": 20,
   "id": "6813993c",
   "metadata": {},
   "outputs": [
    {
     "name": "stdout",
     "output_type": "stream",
     "text": [
      "['manzana', 'naranja', 'coco', 'maracuyá', 'piña', 'melón', 'fresa']\n"
     ]
    }
   ],
   "source": [
    "fruits.pop()\n",
    "print(fruits)"
   ]
  },
  {
   "cell_type": "code",
   "execution_count": 21,
   "id": "04de7b41",
   "metadata": {},
   "outputs": [
    {
     "name": "stdout",
     "output_type": "stream",
     "text": [
      "['manzana', 'naranja', 'coco', 'piña', 'melón', 'fresa']\n"
     ]
    }
   ],
   "source": [
    "fruits.pop(3)\n",
    "print(fruits)"
   ]
  },
  {
   "cell_type": "code",
   "execution_count": 22,
   "id": "333b9833",
   "metadata": {},
   "outputs": [
    {
     "name": "stdout",
     "output_type": "stream",
     "text": [
      "6\n"
     ]
    }
   ],
   "source": [
    "n_fruits = len(fruits)\n",
    "print(n_fruits)"
   ]
  },
  {
   "cell_type": "code",
   "execution_count": 25,
   "id": "d6a502e2",
   "metadata": {},
   "outputs": [
    {
     "name": "stdout",
     "output_type": "stream",
     "text": [
      "<class 'range'>\n",
      "[0, 1, 2, 3, 4, 5, 6, 7, 8, 9]\n"
     ]
    }
   ],
   "source": [
    "my_range = range(10)\n",
    "print(type(my_range))\n",
    "print(list(my_range))"
   ]
  },
  {
   "cell_type": "code",
   "execution_count": 26,
   "id": "751f7fbb",
   "metadata": {},
   "outputs": [
    {
     "name": "stdout",
     "output_type": "stream",
     "text": [
      "[3, 4, 5, 6, 7, 8, 9]\n"
     ]
    }
   ],
   "source": [
    "my_range = range(3, 10)\n",
    "print(list(my_range))"
   ]
  },
  {
   "cell_type": "code",
   "execution_count": 27,
   "id": "e7dc3770",
   "metadata": {},
   "outputs": [
    {
     "name": "stdout",
     "output_type": "stream",
     "text": [
      "[5, 8, 11, 14, 17]\n"
     ]
    }
   ],
   "source": [
    "my_range = range(5, 20, 3)\n",
    "print(list(my_range))"
   ]
  },
  {
   "cell_type": "code",
   "execution_count": 30,
   "id": "14a5c162",
   "metadata": {},
   "outputs": [],
   "source": [
    "even_numbers_20 = list(range(0, 21, 2))"
   ]
  },
  {
   "cell_type": "code",
   "execution_count": 31,
   "id": "ba3720e5",
   "metadata": {},
   "outputs": [
    {
     "name": "stdout",
     "output_type": "stream",
     "text": [
      "[0, 2, 4, 6, 8, 10, 12, 14, 16, 18, 20]\n"
     ]
    }
   ],
   "source": [
    "print(even_numbers_20)"
   ]
  },
  {
   "cell_type": "code",
   "execution_count": 33,
   "id": "38e846ab",
   "metadata": {},
   "outputs": [
    {
     "name": "stdout",
     "output_type": "stream",
     "text": [
      "[0, 2, 4, 6, 8, 10, 12, 14, 16, 18, 20, 21, 21]\n",
      "13\n"
     ]
    }
   ],
   "source": [
    "even_numbers_20.append(21)\n",
    "print(even_numbers_20)\n",
    "print(len(even_numbers_20))"
   ]
  },
  {
   "cell_type": "code",
   "execution_count": 34,
   "id": "68f33c39",
   "metadata": {},
   "outputs": [
    {
     "name": "stdout",
     "output_type": "stream",
     "text": [
      "[6, 8, 10, 12, 14]\n"
     ]
    }
   ],
   "source": [
    "print(even_numbers_20[3:8])"
   ]
  },
  {
   "cell_type": "code",
   "execution_count": 35,
   "id": "804b7102",
   "metadata": {},
   "outputs": [
    {
     "name": "stdout",
     "output_type": "stream",
     "text": [
      "[16, 18, 20, 21, 21]\n"
     ]
    }
   ],
   "source": [
    "print(even_numbers_20[-5:])"
   ]
  },
  {
   "cell_type": "code",
   "execution_count": 36,
   "id": "dc5923a5",
   "metadata": {},
   "outputs": [
    {
     "name": "stdout",
     "output_type": "stream",
     "text": [
      "[0, 2, 4, 6, 8, 10]\n"
     ]
    }
   ],
   "source": [
    "print(even_numbers_20[:6])"
   ]
  },
  {
   "cell_type": "code",
   "execution_count": 38,
   "id": "4420a505",
   "metadata": {},
   "outputs": [
    {
     "name": "stdout",
     "output_type": "stream",
     "text": [
      "2\n",
      "0\n"
     ]
    }
   ],
   "source": [
    "print(even_numbers_20.count(21))\n",
    "print(even_numbers_20.count(30))"
   ]
  },
  {
   "cell_type": "code",
   "execution_count": 43,
   "id": "b36ba062",
   "metadata": {},
   "outputs": [
    {
     "name": "stdout",
     "output_type": "stream",
     "text": [
      "[3, 5, 9, -1, 0, 2, -20]\n"
     ]
    }
   ],
   "source": [
    "random_numbers = [3, 5, 9, -1, 0, 2, -20]\n",
    "print(random_numbers)\n",
    "# random_numbers.sort(reverse=-1)\n",
    "sorted_values = sorted(random_numbers)"
   ]
  },
  {
   "cell_type": "code",
   "execution_count": 44,
   "id": "64a3713d",
   "metadata": {},
   "outputs": [
    {
     "name": "stdout",
     "output_type": "stream",
     "text": [
      "[3, 5, 9, -1, 0, 2, -20]\n",
      "[-20, -1, 0, 2, 3, 5, 9]\n"
     ]
    }
   ],
   "source": [
    "print(random_numbers)\n",
    "print(sorted_values)"
   ]
  },
  {
   "cell_type": "code",
   "execution_count": 46,
   "id": "9a06c204",
   "metadata": {},
   "outputs": [
    {
     "name": "stdout",
     "output_type": "stream",
     "text": [
      "[('manzana', 2500), ('banano', 300), ('pera', 2000)]\n"
     ]
    }
   ],
   "source": [
    "fruits = ['manzana', 'banano', 'pera']\n",
    "prices = [2500, 300, 2000]\n",
    "fruits_prices = list(zip(fruits, prices))\n",
    "print(fruits_prices)"
   ]
  },
  {
   "cell_type": "code",
   "execution_count": 47,
   "id": "78787f64",
   "metadata": {},
   "outputs": [
    {
     "name": "stdout",
     "output_type": "stream",
     "text": [
      "<class 'tuple'>\n"
     ]
    }
   ],
   "source": [
    "print(type(fruits_prices[0]))"
   ]
  },
  {
   "cell_type": "code",
   "execution_count": 48,
   "id": "80d8a672",
   "metadata": {},
   "outputs": [
    {
     "name": "stdout",
     "output_type": "stream",
     "text": [
      "2500\n"
     ]
    }
   ],
   "source": [
    "print(fruits_prices[0][1])"
   ]
  },
  {
   "cell_type": "code",
   "execution_count": 50,
   "id": "c0bca7ce",
   "metadata": {},
   "outputs": [
    {
     "data": {
      "text/plain": [
       "('manzana', 2500)"
      ]
     },
     "execution_count": 50,
     "metadata": {},
     "output_type": "execute_result"
    }
   ],
   "source": [
    "fruits_prices[0]"
   ]
  },
  {
   "cell_type": "markdown",
   "id": "9d0af0ea",
   "metadata": {},
   "source": [
    "## Ciclos"
   ]
  },
  {
   "cell_type": "code",
   "execution_count": 51,
   "id": "ed056a88",
   "metadata": {},
   "outputs": [
    {
     "name": "stdout",
     "output_type": "stream",
     "text": [
      "['manzana', 'banano', 'pera']\n"
     ]
    }
   ],
   "source": [
    "print(fruits)"
   ]
  },
  {
   "cell_type": "code",
   "execution_count": 52,
   "id": "95594224",
   "metadata": {},
   "outputs": [
    {
     "name": "stdout",
     "output_type": "stream",
     "text": [
      "['manzana', 'banano', 'pera', 'piña', 'fresa', 'coco', 'guanábana']\n"
     ]
    }
   ],
   "source": [
    "other_fruits = ['piña', 'fresa', 'coco', 'guanábana']\n",
    "fruits +=  other_fruits\n",
    "print(fruits)"
   ]
  },
  {
   "cell_type": "code",
   "execution_count": 53,
   "id": "1fd7290f",
   "metadata": {},
   "outputs": [
    {
     "name": "stdout",
     "output_type": "stream",
     "text": [
      "5\n",
      "8\n"
     ]
    }
   ],
   "source": [
    "a = 5\n",
    "print(a)\n",
    "a += 3\n",
    "print(a)"
   ]
  },
  {
   "cell_type": "code",
   "execution_count": 54,
   "id": "511c7e39",
   "metadata": {},
   "outputs": [
    {
     "name": "stdout",
     "output_type": "stream",
     "text": [
      "Miguel\n",
      "Miguel Ortiz\n"
     ]
    }
   ],
   "source": [
    "name = 'Miguel'\n",
    "print(name)\n",
    "name += ' Ortiz'\n",
    "print(name)"
   ]
  },
  {
   "cell_type": "code",
   "execution_count": 56,
   "id": "de0cb598",
   "metadata": {},
   "outputs": [
    {
     "name": "stdout",
     "output_type": "stream",
     "text": [
      "Me gusta la/el manzana\n",
      "Me gusta la/el banano\n",
      "Me gusta la/el pera\n",
      "Me gusta la/el piña\n",
      "Me gusta la/el fresa\n",
      "Me gusta la/el coco\n",
      "Me gusta la/el guanábana\n"
     ]
    }
   ],
   "source": [
    "for fruit in fruits: print(\"Me gusta la/el \" + fruit) #inline"
   ]
  },
  {
   "cell_type": "code",
   "execution_count": 66,
   "id": "b8cdc4bc",
   "metadata": {},
   "outputs": [
    {
     "name": "stdout",
     "output_type": "stream",
     "text": [
      "['manzana', 'banano', 'pera', 'piña', 'fresa', 'coco', 'guanábana']\n",
      "\n",
      "manzana\n",
      "1\n",
      "pera\n",
      "3\n",
      "fresa\n",
      "5\n",
      "guanábana\n"
     ]
    }
   ],
   "source": [
    "print(str(fruits) + '\\n')\n",
    "for i in range(len(fruits)):\n",
    "    if i%2 == 0:\n",
    "        print(fruits[i])\n",
    "    else:\n",
    "        print(i)"
   ]
  },
  {
   "cell_type": "code",
   "execution_count": 64,
   "id": "f6b3b5d4",
   "metadata": {},
   "outputs": [
    {
     "name": "stdout",
     "output_type": "stream",
     "text": [
      "['manzana', 'banano', 'pera', 'piña', 'fresa', 'coco', 'guanábana']\n",
      "\n",
      "guanábana\n",
      "coco\n",
      "fresa\n",
      "piña\n",
      "pera\n",
      "banano\n",
      "manzana\n"
     ]
    }
   ],
   "source": [
    "print(str(fruits) + '\\n')\n",
    "for i in range(len(fruits)-1, -1, -1):\n",
    "    print(fruits[i])"
   ]
  },
  {
   "cell_type": "code",
   "execution_count": 69,
   "id": "ff608b6b",
   "metadata": {},
   "outputs": [
    {
     "name": "stdout",
     "output_type": "stream",
     "text": [
      "manzana\n",
      "banano\n",
      "pera\n",
      "piña\n",
      "fresa\n"
     ]
    }
   ],
   "source": [
    "# Ciclo riesgoso\n",
    "i = 0\n",
    "while fruits[i][0] != 'c':\n",
    "    print(fruits[i])\n",
    "    i += 1"
   ]
  },
  {
   "cell_type": "code",
   "execution_count": 75,
   "id": "a08b3750",
   "metadata": {},
   "outputs": [
    {
     "name": "stdout",
     "output_type": "stream",
     "text": [
      "1.0\n",
      "1.4142135623730951\n",
      "1.7320508075688772\n",
      "2.0\n",
      "2.23606797749979\n",
      "2.449489742783178\n",
      "2.6457513110645907\n",
      "2.8284271247461903\n",
      "3.0\n",
      "3.1622776601683795\n"
     ]
    }
   ],
   "source": [
    "counter = 1\n",
    "while counter <= 10:\n",
    "    print(counter ** 0.5)\n",
    "    counter += 1"
   ]
  },
  {
   "cell_type": "code",
   "execution_count": 76,
   "id": "c100aef1",
   "metadata": {},
   "outputs": [
    {
     "name": "stdout",
     "output_type": "stream",
     "text": [
      "['manzana', 'banano', 'pera', 'piña', 'fresa', 'coco', 'guanábana']\n"
     ]
    }
   ],
   "source": [
    "print(fruits)"
   ]
  },
  {
   "cell_type": "code",
   "execution_count": 78,
   "id": "8b6de123",
   "metadata": {},
   "outputs": [
    {
     "name": "stdout",
     "output_type": "stream",
     "text": [
      "manzana\n",
      "banano\n"
     ]
    }
   ],
   "source": [
    "search = 'banano'\n",
    "for fruit in fruits:\n",
    "    print(fruit)\n",
    "    if fruit == search:\n",
    "        break"
   ]
  },
  {
   "cell_type": "code",
   "execution_count": 79,
   "id": "55bc573f",
   "metadata": {},
   "outputs": [
    {
     "name": "stdout",
     "output_type": "stream",
     "text": [
      "manzana\n",
      "banano\n",
      "fresa\n",
      "coco\n",
      "guanábana\n"
     ]
    }
   ],
   "source": [
    "search = 'p'\n",
    "for fruit in fruits:\n",
    "    if fruit[0] == search:\n",
    "        continue\n",
    "    print(fruit)"
   ]
  },
  {
   "cell_type": "markdown",
   "id": "c761a02c",
   "metadata": {},
   "source": [
    "## List Comprehension"
   ]
  },
  {
   "cell_type": "code",
   "execution_count": 80,
   "id": "2aa1261a",
   "metadata": {},
   "outputs": [
    {
     "name": "stdout",
     "output_type": "stream",
     "text": [
      "[6, 78, 13, 1, 61, 13, -2]\n"
     ]
    }
   ],
   "source": [
    "my_nums = [3, 9, -4, 2, -8, 4, 1]\n",
    "calcs = [(num ** 2) - 3 for num in my_nums]\n",
    "print(calcs)"
   ]
  },
  {
   "cell_type": "code",
   "execution_count": 81,
   "id": "8d4e435f",
   "metadata": {},
   "outputs": [
    {
     "name": "stdout",
     "output_type": "stream",
     "text": [
      "[4.5, 13.5, 6.0]\n"
     ]
    }
   ],
   "source": [
    "my_nums = [3, 9, -4, 2, -8, 4, 1]\n",
    "calcs = [(num * 3)/2 for num in my_nums if num > 2]\n",
    "print(calcs)"
   ]
  },
  {
   "cell_type": "code",
   "execution_count": 82,
   "id": "94f82f61",
   "metadata": {},
   "outputs": [
    {
     "name": "stdout",
     "output_type": "stream",
     "text": [
      "[6, 18, 16, 4, 64, 8, 2]\n"
     ]
    }
   ],
   "source": [
    "my_nums = [3, 9, -4, 2, -8, 4, 1]\n",
    "calcs = [num * 2 if num > 0 else num ** 2 for num in my_nums]\n",
    "print(calcs)"
   ]
  },
  {
   "cell_type": "code",
   "execution_count": 91,
   "id": "674261b9",
   "metadata": {},
   "outputs": [
    {
     "name": "stdout",
     "output_type": "stream",
     "text": [
      "manzana\n"
     ]
    }
   ],
   "source": [
    "from random import randint\n",
    "print(fruits[randint(0, len(fruits)-1)])"
   ]
  },
  {
   "cell_type": "markdown",
   "id": "fe271978",
   "metadata": {},
   "source": [
    "## Reggaeton"
   ]
  },
  {
   "cell_type": "code",
   "execution_count": 93,
   "id": "db633c0c",
   "metadata": {},
   "outputs": [
    {
     "name": "stdout",
     "output_type": "stream",
     "text": [
      "Princess yo puedo ligal fuerte hasta el amanecer.\n",
      "Mami voy a ligal rápido hasta que salga el sol.\n",
      "Princess yo puedo encendelte suave todo el día.\n",
      "Princess yo quiero amalte suave hasta el amanecer.\n",
      "\n"
     ]
    }
   ],
   "source": [
    "from random import randint\n",
    "\n",
    "subject = [\"Mami\", \"Bebé\", \"Princess\", \"Mami\"]\n",
    "connection = [\" yo quiero \", \" yo puedo \", \" yo vengo a  \", \" voy a \"]\n",
    "action = [\"encendelte \", \"amalte \", \"ligal \", \"jugal \"]\n",
    "adj = [\"suave \", \"lento \", \"rápido \", \"fuerte \"]\n",
    "compl = [\"hasta que salga el sol.\", \"toda la noche.\", \"hasta el amanecer.\", \"todo el día.\"]\n",
    "\n",
    "line = 0\n",
    "song = ''\n",
    "while line < 4:\n",
    "    line_subject = subject[randint(0, len(subject) - 1)]\n",
    "    line_connection = connection[randint(0, len(connection) - 1)]  \n",
    "    line_action = action[randint(0, len(action) - 1)]\n",
    "    line_adj = adj[randint(0, len(adj) - 1)]\n",
    "    line_compl = compl[randint(0, len(compl) - 1)]\n",
    "    song += line_subject + line_connection + line_action + line_adj + line_compl + '\\n'\n",
    "    line += 1\n",
    "print(song)"
   ]
  },
  {
   "cell_type": "markdown",
   "id": "ba42e796",
   "metadata": {},
   "source": [
    "## Funciones"
   ]
  },
  {
   "cell_type": "code",
   "execution_count": 94,
   "id": "573db033",
   "metadata": {},
   "outputs": [
    {
     "name": "stdout",
     "output_type": "stream",
     "text": [
      "Buenos días :)\n"
     ]
    }
   ],
   "source": [
    "def greetings():\n",
    "    print(\"Buenos días :)\")\n",
    "\n",
    "greetings()"
   ]
  },
  {
   "cell_type": "code",
   "execution_count": 96,
   "id": "85a5fb47",
   "metadata": {},
   "outputs": [
    {
     "name": "stdout",
     "output_type": "stream",
     "text": [
      "Hola Miguel\n"
     ]
    }
   ],
   "source": [
    "name = \"Miguel\"\n",
    "def greetings(name):\n",
    "    print(\"Hola \" + name)\n",
    "\n",
    "greetings(name)"
   ]
  },
  {
   "cell_type": "code",
   "execution_count": 98,
   "id": "6aae84de",
   "metadata": {},
   "outputs": [
    {
     "name": "stdout",
     "output_type": "stream",
     "text": [
      "Su impuesto es de $50000.0\n"
     ]
    }
   ],
   "source": [
    "def calculate_tax(income, expenses, tax):\n",
    "    tax_value = (income - expenses)*tax/100\n",
    "    print(\"Su impuesto es de $\" + str(tax_value))\n",
    "    \n",
    "calculate_tax(1000000, 500000, 10)"
   ]
  },
  {
   "cell_type": "code",
   "execution_count": 100,
   "id": "a59c499f",
   "metadata": {},
   "outputs": [
    {
     "name": "stdout",
     "output_type": "stream",
     "text": [
      "Su impuesto es de $84000.0\n"
     ]
    }
   ],
   "source": [
    "def calculate_tax(income, expenses, tax):\n",
    "    tax_value = (income - expenses)*tax/100\n",
    "    print(\"Su impuesto es de $\" + str(tax_value))\n",
    "    \n",
    "calculate_tax(tax=12, income=1500000, expenses=800000)"
   ]
  },
  {
   "cell_type": "code",
   "execution_count": 102,
   "id": "64b403a0",
   "metadata": {},
   "outputs": [
    {
     "name": "stdout",
     "output_type": "stream",
     "text": [
      "Su impuesto es de $105000.0\n"
     ]
    }
   ],
   "source": [
    "def calculate_tax(income, expenses, tax=15):\n",
    "    tax_value = (income - expenses)*tax/100\n",
    "    print(\"Su impuesto es de $\" + str(tax_value))\n",
    "    \n",
    "calculate_tax(1500000, 800000)"
   ]
  },
  {
   "cell_type": "code",
   "execution_count": 103,
   "id": "ccf1dc07",
   "metadata": {},
   "outputs": [
    {
     "name": "stdout",
     "output_type": "stream",
     "text": [
      "105000.0\n",
      "60000.0\n"
     ]
    }
   ],
   "source": [
    "def calculate_tax(income, expenses, tax=15):\n",
    "    tax_value = (income - expenses)*tax/100\n",
    "    return tax_value    \n",
    "\n",
    "\n",
    "my_tax_1 = calculate_tax(1500000, 800000)\n",
    "my_tax_2 = calculate_tax(1000000, 500000, 12)\n",
    "\n",
    "print(my_tax_1)\n",
    "print(my_tax_2)"
   ]
  },
  {
   "cell_type": "markdown",
   "id": "aec6c7fa",
   "metadata": {},
   "source": [
    "## Strings"
   ]
  },
  {
   "cell_type": "code",
   "execution_count": 3,
   "id": "95efbf31",
   "metadata": {},
   "outputs": [
    {
     "name": "stdout",
     "output_type": "stream",
     "text": [
      "M\n"
     ]
    }
   ],
   "source": [
    "my_name = \"Miguel Ortiz\"\n",
    "print(my_name[0])"
   ]
  },
  {
   "cell_type": "code",
   "execution_count": 5,
   "id": "95d95367",
   "metadata": {},
   "outputs": [
    {
     "name": "stdout",
     "output_type": "stream",
     "text": [
      "['Miguel', 'Ortiz']\n"
     ]
    }
   ],
   "source": [
    "list_name = my_name.split()\n",
    "print(list_name)"
   ]
  },
  {
   "cell_type": "code",
   "execution_count": 7,
   "id": "cfa066eb",
   "metadata": {},
   "outputs": [
    {
     "name": "stdout",
     "output_type": "stream",
     "text": [
      "['Mississippi']\n"
     ]
    }
   ],
   "source": [
    "another_string = \"Mississippi\"\n",
    "mis_list = another_string.split()\n",
    "print(mis_list)"
   ]
  },
  {
   "cell_type": "code",
   "execution_count": 18,
   "id": "8480770a",
   "metadata": {},
   "outputs": [
    {
     "name": "stdout",
     "output_type": "stream",
     "text": [
      "['Hoy', 'es', 'info', 'un', 'gran', 'día', 'para', 'morirtambién.', 'también.']\n"
     ]
    }
   ],
   "source": [
    "phrase = \"Hoy es un gran día para morir\"\n",
    "phrase += \"también.\"\n",
    "my_list = phrase.split()\n",
    "my_list.append(\"también.\")\n",
    "my_list.insert(2, 'info')\n",
    "print(my_list)"
   ]
  },
  {
   "cell_type": "code",
   "execution_count": 21,
   "id": "562c7155",
   "metadata": {},
   "outputs": [],
   "source": [
    "new_phrase = \" \".join(my_list)"
   ]
  },
  {
   "cell_type": "code",
   "execution_count": 22,
   "id": "fa275f50",
   "metadata": {},
   "outputs": [
    {
     "name": "stdout",
     "output_type": "stream",
     "text": [
      "<class 'str'>\n",
      "Hoy es info un gran día para morirtambién. también.\n"
     ]
    }
   ],
   "source": [
    "print(type(new_phrase))\n",
    "print(new_phrase)"
   ]
  },
  {
   "cell_type": "code",
   "execution_count": 23,
   "id": "b6094243",
   "metadata": {},
   "outputs": [
    {
     "ename": "ValueError",
     "evalue": "could not convert string to float: '600.000,00'",
     "output_type": "error",
     "traceback": [
      "\u001b[1;31m---------------------------------------------------------------------------\u001b[0m",
      "\u001b[1;31mValueError\u001b[0m                                Traceback (most recent call last)",
      "Input \u001b[1;32mIn [23]\u001b[0m, in \u001b[0;36m<cell line: 2>\u001b[1;34m()\u001b[0m\n\u001b[0;32m      1\u001b[0m data \u001b[38;5;241m=\u001b[39m \u001b[38;5;124m\"\u001b[39m\u001b[38;5;124m600.000,00\u001b[39m\u001b[38;5;124m\"\u001b[39m\n\u001b[1;32m----> 2\u001b[0m num \u001b[38;5;241m=\u001b[39m \u001b[38;5;28;43mfloat\u001b[39;49m\u001b[43m(\u001b[49m\u001b[43mdata\u001b[49m\u001b[43m)\u001b[49m\n\u001b[0;32m      3\u001b[0m \u001b[38;5;28mprint\u001b[39m(num)\n",
      "\u001b[1;31mValueError\u001b[0m: could not convert string to float: '600.000,00'"
     ]
    }
   ],
   "source": [
    "data = \"600.000,00\"\n",
    "num = float(data)\n",
    "print(num)\n"
   ]
  },
  {
   "cell_type": "code",
   "execution_count": 30,
   "id": "1fa817ec",
   "metadata": {},
   "outputs": [
    {
     "name": "stdout",
     "output_type": "stream",
     "text": [
      "600000.00\n",
      "600000.0\n"
     ]
    }
   ],
   "source": [
    "new_data_1 = data.replace(\".\",\"\")\n",
    "new_data_2 = new_data_1.replace(\",\",\".\")\n",
    "print(new_data_2)\n",
    "num = float(new_data_2)\n",
    "print(num)"
   ]
  },
  {
   "cell_type": "code",
   "execution_count": 35,
   "id": "08ff4830",
   "metadata": {},
   "outputs": [
    {
     "name": "stdout",
     "output_type": "stream",
     "text": [
      "0\n"
     ]
    }
   ],
   "source": [
    "name = \"Aurelio\"\n",
    "print(name.upper().find(\"A\"))"
   ]
  },
  {
   "cell_type": "code",
   "execution_count": 38,
   "id": "944ab345",
   "metadata": {},
   "outputs": [
    {
     "name": "stdout",
     "output_type": "stream",
     "text": [
      "My name is Red and my favorite food is Bayas\n"
     ]
    }
   ],
   "source": [
    "def fav_food(name, food):\n",
    "    print(\"My name is {} and my favorite food is {}\".format(name, food))\n",
    "    \n",
    "fav_food(\"Red\", \"Bayas\")"
   ]
  },
  {
   "cell_type": "code",
   "execution_count": 39,
   "id": "29c83521",
   "metadata": {},
   "outputs": [
    {
     "name": "stdout",
     "output_type": "stream",
     "text": [
      "My name is Red and my favorite food is Bayas\n"
     ]
    }
   ],
   "source": [
    "def fav_food(name, food):\n",
    "    print(\"My name is {name} and my favorite food is {food}\".format(name=name, food=food))\n",
    "    \n",
    "fav_food(\"Red\", \"Bayas\")"
   ]
  },
  {
   "cell_type": "code",
   "execution_count": 40,
   "id": "9d4e52ef",
   "metadata": {},
   "outputs": [
    {
     "name": "stdout",
     "output_type": "stream",
     "text": [
      "My name is Red and my favorite food is Bayas\n"
     ]
    }
   ],
   "source": [
    "def fav_food(name, food):\n",
    "    print(f\"My name is {name} and my favorite food is {food}\")\n",
    "    \n",
    "fav_food(\"Red\", \"Bayas\")\n"
   ]
  },
  {
   "cell_type": "code",
   "execution_count": 42,
   "id": "86dde74b",
   "metadata": {},
   "outputs": [
    {
     "name": "stdout",
     "output_type": "stream",
     "text": [
      "Hello, how are you? What's your name? Mikheltodd\n",
      "Hello Mikheltodd, nice to meet you.\n"
     ]
    }
   ],
   "source": [
    "name = input(\"Hello, how are you? What's your name? \")\n",
    "def greeting(name):\n",
    "    print(f\"Hello {name}, nice to meet you.\")\n",
    "\n",
    "greeting(name)"
   ]
  },
  {
   "cell_type": "code",
   "execution_count": 49,
   "id": "88e86b6e",
   "metadata": {},
   "outputs": [
    {
     "name": "stdout",
     "output_type": "stream",
     "text": [
      "La frase \"Ateo poco Poeta\" es palíndromo.\n"
     ]
    }
   ],
   "source": [
    "def isPalindrome(phrase):\n",
    "    new_sentence = \"\".join(phrase.lower().split())\n",
    "    inverted = \"\".join([new_sentence[i] for i in range(len(new_sentence)-1,-1,-1)])\n",
    "    #print(new_sentence)\n",
    "    #print(inverted)\n",
    "    if new_sentence == inverted:\n",
    "        print(f\"La frase \\\"{phrase}\\\" es palíndromo.\")\n",
    "    else:\n",
    "        print(f\"La frase \\\"{phrase}\\\" NO es palíndromo.\")\n",
    "phrase = \"Ateo poco Poeta\"\n",
    "isPalindrome(phrase)"
   ]
  },
  {
   "cell_type": "markdown",
   "id": "3717d40c",
   "metadata": {},
   "source": [
    "## Diccionarios"
   ]
  },
  {
   "cell_type": "code",
   "execution_count": 1,
   "id": "a0503887",
   "metadata": {},
   "outputs": [],
   "source": [
    "fast_foods = {\"hotdog\": 2000, \"burguer\": 3000, \"pizza\": 1500, \"salchipapa\": 13000}"
   ]
  },
  {
   "cell_type": "code",
   "execution_count": 2,
   "id": "41bff06a",
   "metadata": {},
   "outputs": [
    {
     "name": "stdout",
     "output_type": "stream",
     "text": [
      "{'hotdog': 2000, 'burguer': 3000, 'pizza': 1500, 'salchipapa': 13000}\n"
     ]
    }
   ],
   "source": [
    "print(fast_foods)"
   ]
  },
  {
   "cell_type": "code",
   "execution_count": 3,
   "id": "c68c7cf7",
   "metadata": {},
   "outputs": [
    {
     "name": "stdout",
     "output_type": "stream",
     "text": [
      "{1: 'Destornillador', 2: 'pinza', 3: 'cortafrío'}\n"
     ]
    }
   ],
   "source": [
    "tools = {1: \"Destornillador\", 2: \"pinza\", 3: \"cortafrío\"}\n",
    "print(tools)"
   ]
  },
  {
   "cell_type": "code",
   "execution_count": 8,
   "id": "a7fd0447",
   "metadata": {},
   "outputs": [
    {
     "name": "stdout",
     "output_type": "stream",
     "text": [
      "{'hotdog': 2000, 'burguer': 3000, 'pizza': 1500, 'salchipapa': 13000, 'suizo': 15000}\n"
     ]
    }
   ],
   "source": [
    "fast_foods[\"suizo\"] = 15000\n",
    "print(fast_foods)"
   ]
  },
  {
   "cell_type": "code",
   "execution_count": 9,
   "id": "549639c4",
   "metadata": {},
   "outputs": [
    {
     "name": "stdout",
     "output_type": "stream",
     "text": [
      "{'hotdog': 2000, 'burguer': 3000, 'pizza': 1500, 'salchipapa': 13000, 'suizo': 15000, 'chuzo': 3000, 'pizza remontada': 12000}\n"
     ]
    }
   ],
   "source": [
    "fast_foods.update({\"chuzo\": 3000, \"pizza remontada\": 12000})\n",
    "print(fast_foods)"
   ]
  },
  {
   "cell_type": "code",
   "execution_count": 13,
   "id": "fd6acdca",
   "metadata": {},
   "outputs": [
    {
     "name": "stdout",
     "output_type": "stream",
     "text": [
      "{'hotdog': 0.44642857142857145, 'burguer': 0.6696428571428571, 'pizza': 0.33482142857142855, 'salchipapa': 2.9017857142857144, 'suizo': 3.3482142857142856, 'chuzo': 0.6696428571428571, 'pizza remontada': 2.6785714285714284}\n"
     ]
    }
   ],
   "source": [
    "\n",
    "fast_foods_usd = {key:value/4480 for key, value in fast_foods.items()}\n",
    "print(fast_foods_usd)"
   ]
  },
  {
   "cell_type": "code",
   "execution_count": 16,
   "id": "5e77aa1b",
   "metadata": {},
   "outputs": [
    {
     "name": "stdout",
     "output_type": "stream",
     "text": [
      "{'stepway': 18732000, 'aveo': 16948000, 'spark': 17394000, 'sail': 18286000}\n"
     ]
    }
   ],
   "source": [
    "cars = [\"stepway\", \"aveo\", \"spark\", \"sail\"]\n",
    "prices = [4200, 3800, 3900, 4100]\n",
    "cars_prices = zip(cars, prices)\n",
    "cars_prices_COP = {key:value*4460 for key, value in cars_prices}\n",
    "print(cars_prices_COP)"
   ]
  },
  {
   "cell_type": "code",
   "execution_count": 17,
   "id": "cfbbc84e",
   "metadata": {},
   "outputs": [
    {
     "ename": "KeyError",
     "evalue": "'optra'",
     "output_type": "error",
     "traceback": [
      "\u001b[1;31m---------------------------------------------------------------------------\u001b[0m",
      "\u001b[1;31mKeyError\u001b[0m                                  Traceback (most recent call last)",
      "Input \u001b[1;32mIn [17]\u001b[0m, in \u001b[0;36m<cell line: 1>\u001b[1;34m()\u001b[0m\n\u001b[1;32m----> 1\u001b[0m \u001b[43mcars_prices_COP\u001b[49m\u001b[43m[\u001b[49m\u001b[38;5;124;43m\"\u001b[39;49m\u001b[38;5;124;43moptra\u001b[39;49m\u001b[38;5;124;43m\"\u001b[39;49m\u001b[43m]\u001b[49m\n",
      "\u001b[1;31mKeyError\u001b[0m: 'optra'"
     ]
    }
   ],
   "source": [
    "cars_prices_COP[\"optra\"]"
   ]
  },
  {
   "cell_type": "code",
   "execution_count": 23,
   "id": "66feaea2",
   "metadata": {},
   "outputs": [
    {
     "name": "stdout",
     "output_type": "stream",
     "text": [
      "Cuál carro quieres? spark\n",
      "Precio: $17394000\n"
     ]
    }
   ],
   "source": [
    "car = input(\"Cuál carro quieres? \")\n",
    "if car in cars_prices_COP:\n",
    "    print(f\"Precio: ${cars_prices_COP[car]}\")\n",
    "else:\n",
    "    print(\"El auto que está buscando no se encuentra en la base de datos.\")"
   ]
  },
  {
   "cell_type": "code",
   "execution_count": 29,
   "id": "1ba27b05",
   "metadata": {},
   "outputs": [
    {
     "name": "stdout",
     "output_type": "stream",
     "text": [
      "Ingrese el carro: aveo\n",
      "16948000\n"
     ]
    }
   ],
   "source": [
    "car = input(\"Ingrese el carro: \")\n",
    "a = cars_prices_COP.get(car, \"No encontrado\")\n",
    "\n",
    "print(a)"
   ]
  },
  {
   "cell_type": "code",
   "execution_count": 41,
   "id": "f673f92f",
   "metadata": {},
   "outputs": [
    {
     "name": "stdout",
     "output_type": "stream",
     "text": [
      "Bienvenido. Qué desea hacer? \n",
      "1. Comprar.\n",
      "2. Salir \n",
      "\n",
      "1\n",
      "Qué quiere vender? empanada\n",
      "Ingrese cantidad: 1\n",
      "Quedan 4 empanada\n",
      "{'dedito': 10, 'empanada': 4, 'panzerotti': 6}\n",
      "Bienvenido. Qué desea hacer? \n",
      "1. Comprar.\n",
      "2. Salir \n",
      "\n",
      "1\n",
      "Qué quiere vender? empanada\n",
      "Ingrese cantidad: 1\n",
      "Quedan 3 empanada\n",
      "{'dedito': 10, 'empanada': 3, 'panzerotti': 6}\n",
      "Bienvenido. Qué desea hacer? \n",
      "1. Comprar.\n",
      "2. Salir \n",
      "\n",
      "1\n",
      "Qué quiere vender? dedito\n",
      "Ingrese cantidad: 5\n",
      "Quedan 5 dedito\n",
      "{'dedito': 5, 'empanada': 3, 'panzerotti': 6}\n",
      "Bienvenido. Qué desea hacer? \n",
      "1. Comprar.\n",
      "2. Salir \n",
      "\n",
      "2\n"
     ]
    }
   ],
   "source": [
    "flag = True\n",
    "inventory = {\"dedito\": 10, \"empanada\": 5, \"panzerotti\": 6}\n",
    "def sell(inventory, item, quantity):\n",
    "    existence = inventory.get(item)\n",
    "    if existence != None:\n",
    "        if inventory[item] >= quantity:\n",
    "            inventory[item] -= quantity\n",
    "            if inventory[item] == 0:\n",
    "                inventory.pop(item)\n",
    "            else: \n",
    "                print(f\"Quedan {inventory[item]} {item}\")\n",
    "        else:\n",
    "            print(f\"Solamente hay {inventory[item]} {item}\")\n",
    "    else:\n",
    "        print(f\"No tenemos {item}.\")\n",
    "    print(inventory)\n",
    "    \n",
    "while flag:\n",
    "    print(\"Bienvenido. Qué desea hacer? \\n1. Comprar.\\n2. Salir \\n\")\n",
    "    option = int(input())\n",
    "    if option == 1:\n",
    "        item_to_sell = input(\"Qué quiere vender? \")\n",
    "        q_to_sell = int(input(\"Ingrese cantidad: \"))\n",
    "        sell(inventory, item_to_sell, q_to_sell)\n",
    "    elif option == 2:\n",
    "        flag = False"
   ]
  },
  {
   "cell_type": "code",
   "execution_count": 40,
   "id": "3ef8897e",
   "metadata": {},
   "outputs": [
    {
     "name": "stdout",
     "output_type": "stream",
     "text": [
      "{'dedito': 10, 'empanada': 2, 'panzerotti': 6}\n"
     ]
    }
   ],
   "source": [
    "print(inventory)"
   ]
  },
  {
   "cell_type": "code",
   "execution_count": 43,
   "id": "ffd90ff6",
   "metadata": {},
   "outputs": [
    {
     "name": "stdout",
     "output_type": "stream",
     "text": [
      "{'gato': 4, 'perro': 5, 'pez': 3, 'loro': 4, 'gallo': 5}\n"
     ]
    }
   ],
   "source": [
    "list_a = [\"gato\", \"perro\", \"pez\", \"loro\", \"gallo\"]\n",
    "\n",
    "def count_letters(a_list):\n",
    "    my_dict = {}\n",
    "    for i in range(len(a_list)):\n",
    "        my_dict[a_list[i]] = len(a_list[i])\n",
    "    return my_dict\n",
    "\n",
    "print(count_letters(list_a))"
   ]
  },
  {
   "cell_type": "code",
   "execution_count": 44,
   "id": "c90f7341",
   "metadata": {},
   "outputs": [
    {
     "name": "stdout",
     "output_type": "stream",
     "text": [
      "{'gato': 4, 'perro': 5, 'pez': 3, 'loro': 4, 'gallo': 5}\n"
     ]
    }
   ],
   "source": [
    "list_a = [\"gato\", \"perro\", \"pez\", \"loro\", \"gallo\"]\n",
    "\n",
    "def count_letters(a_list):\n",
    "    my_dict = {key:len(key) for key in a_list}\n",
    "    return my_dict\n",
    "\n",
    "print(count_letters(list_a))"
   ]
  },
  {
   "cell_type": "code",
   "execution_count": 52,
   "id": "241936c9",
   "metadata": {},
   "outputs": [
    {
     "name": "stdout",
     "output_type": "stream",
     "text": [
      "----- Bienvenido al contador de letras -----\n",
      "Qué quieres hacer? \n",
      "\t1. Ingresar palabra. \n",
      "\t2. Ver resultado\n",
      "1\n",
      "Palabra: perro\n",
      "¡Palabra agregada con éxito!\n",
      "Palabras actuales:\n",
      "['perro']\n",
      "Qué quieres hacer? \n",
      "\t1. Ingresar palabra. \n",
      "\t2. Ver resultado\n",
      "2\n",
      "La palabra perro tiene 5 letra(s).\n"
     ]
    }
   ],
   "source": [
    "print(\"-\"*5 + \" Bienvenido al contador de letras \" + \"-\"*5)\n",
    "string_list = []\n",
    "flag = True\n",
    "option = int(input(\"Qué quieres hacer? \\n\\t1. Ingresar palabra. \\n\\t2. Ver resultado\\n\"))\n",
    "while flag:    \n",
    "    if option == 1:\n",
    "        word = input(\"Palabra: \")\n",
    "        string_list.append(word)\n",
    "        print(f\"¡Palabra agregada con éxito!\\nPalabras actuales:\\n{string_list}\")\n",
    "        option = int(input(\"Qué quieres hacer? \\n\\t1. Ingresar palabra. \\n\\t2. Ver resultado\\n\"))\n",
    "    elif option == 2:\n",
    "        string_dict = count_letters(string_list)\n",
    "        for key, value in string_dict.items():\n",
    "            print(f\"La palabra {key} tiene {value} letra(s).\")\n",
    "        flag = False\n"
   ]
  },
  {
   "cell_type": "code",
   "execution_count": null,
   "id": "aeb94f9c",
   "metadata": {},
   "outputs": [],
   "source": []
  }
 ],
 "metadata": {
  "kernelspec": {
   "display_name": "Python 3 (ipykernel)",
   "language": "python",
   "name": "python3"
  },
  "language_info": {
   "codemirror_mode": {
    "name": "ipython",
    "version": 3
   },
   "file_extension": ".py",
   "mimetype": "text/x-python",
   "name": "python",
   "nbconvert_exporter": "python",
   "pygments_lexer": "ipython3",
   "version": "3.9.12"
  }
 },
 "nbformat": 4,
 "nbformat_minor": 5
}
