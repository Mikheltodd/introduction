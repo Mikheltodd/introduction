{
 "cells": [
  {
   "cell_type": "markdown",
   "id": "d9787d3b",
   "metadata": {},
   "source": [
    "# Introducción a Python\n",
    "\n",
    "## Primeros Pasos\n",
    "\n",
    "Este es un párrafo. Aquí podemos escribir lo que querramos.\n",
    "\n",
    "### Lista de Compra\n",
    "- Pan\n",
    "- Huevo\n",
    "- Queso\n",
    "- Plátano\n",
    "    - Verde\n",
    "    - Maduro\n",
    "- Pollo\n",
    "* **Carne**\n",
    "- _Atún_\n",
    "\n",
    "### Receta de Arroz\n",
    "1. Sofritar Ajo\n",
    "2. Hervir el agua\n",
    "3. Agregar el arroz\n",
    "\n",
    "### Código\n",
    "\n",
    "La variable `m` es la pendiente, y `x` es la distancia.\n",
    "\n",
    "```python\n",
    "\n",
    "y = mx + b\n",
    "```\n",
    "\n",
    "### Ecuaciones\n",
    "\n",
    "$$y = mx + b$$\n",
    "\n",
    "La variable $m$ es la pendiente, y $x$ es la distancia.\n",
    "\n",
    "$$\\eta = \\frac{P_{out}}{P_{in}}$$\n",
    "\n",
    "$$e^{-jx} = \\cos{x} + j \\sin{x}$$\n",
    "\n",
    "$$c^2 = \\sqrt{a^2 + b^2}$$\n",
    "\n",
    "$\\alpha, \\beta, \\gamma$"
   ]
  },
  {
   "cell_type": "code",
   "execution_count": 2,
   "id": "7e57ef3d",
   "metadata": {},
   "outputs": [],
   "source": [
    "x = 1\n",
    "y = 2"
   ]
  },
  {
   "cell_type": "code",
   "execution_count": 9,
   "id": "8287dfe2",
   "metadata": {},
   "outputs": [
    {
     "name": "stdout",
     "output_type": "stream",
     "text": [
      "1\n",
      "2\n"
     ]
    }
   ],
   "source": [
    "print(x)\n",
    "print(y)"
   ]
  },
  {
   "cell_type": "code",
   "execution_count": 11,
   "id": "2744202b",
   "metadata": {},
   "outputs": [],
   "source": [
    "x += 10"
   ]
  },
  {
   "cell_type": "code",
   "execution_count": 12,
   "id": "99619358",
   "metadata": {},
   "outputs": [
    {
     "name": "stdout",
     "output_type": "stream",
     "text": [
      "11\n"
     ]
    }
   ],
   "source": [
    "print(x)"
   ]
  },
  {
   "cell_type": "markdown",
   "id": "017d83fe",
   "metadata": {},
   "source": [
    "## Día 1"
   ]
  },
  {
   "cell_type": "code",
   "execution_count": 1,
   "id": "6f484ed1",
   "metadata": {},
   "outputs": [
    {
     "name": "stdout",
     "output_type": "stream",
     "text": [
      "Hola Mundo\n"
     ]
    }
   ],
   "source": [
    "# Este es un comentario\n",
    "# Se utilizan para dar contexto, explicar y probar\n",
    "\n",
    "print(\"Hola Mundo\")"
   ]
  },
  {
   "cell_type": "code",
   "execution_count": 2,
   "id": "4298af63",
   "metadata": {},
   "outputs": [],
   "source": [
    "my_name = \"Miguel\""
   ]
  },
  {
   "cell_type": "code",
   "execution_count": 3,
   "id": "a3c6c61f",
   "metadata": {},
   "outputs": [
    {
     "name": "stdout",
     "output_type": "stream",
     "text": [
      "Miguel\n"
     ]
    }
   ],
   "source": [
    "print(my_name)"
   ]
  },
  {
   "cell_type": "code",
   "execution_count": 6,
   "id": "e8f982b4",
   "metadata": {},
   "outputs": [
    {
     "name": "stdout",
     "output_type": "stream",
     "text": [
      "7.5\n",
      "<class 'int'>\n",
      "<class 'float'>\n",
      "<class 'float'>\n"
     ]
    }
   ],
   "source": [
    "a = 3\n",
    "b = 4.5\n",
    "c = a + b\n",
    "print(c)\n",
    "print(type(a))\n",
    "print(type(b))\n",
    "print(type(c))"
   ]
  },
  {
   "cell_type": "code",
   "execution_count": 13,
   "id": "84f494b2",
   "metadata": {},
   "outputs": [
    {
     "name": "stdout",
     "output_type": "stream",
     "text": [
      "5\n",
      "56.25\n",
      "7.5\n",
      "1.5\n"
     ]
    },
    {
     "data": {
      "text/plain": [
       "56"
      ]
     },
     "execution_count": 13,
     "metadata": {},
     "output_type": "execute_result"
    }
   ],
   "source": [
    "a = 5\n",
    "print(a)\n",
    "print(c**2)\n",
    "print(c)\n",
    "print(c%2)\n",
    "28*2"
   ]
  },
  {
   "cell_type": "code",
   "execution_count": 16,
   "id": "1cb1d1af",
   "metadata": {},
   "outputs": [
    {
     "name": "stdout",
     "output_type": "stream",
     "text": [
      "MiguelOrtiz\n",
      "3\n"
     ]
    },
    {
     "ename": "TypeError",
     "evalue": "unsupported operand type(s) for +: 'int' and 'str'",
     "output_type": "error",
     "traceback": [
      "\u001b[1;31m---------------------------------------------------------------------------\u001b[0m",
      "\u001b[1;31mTypeError\u001b[0m                                 Traceback (most recent call last)",
      "Input \u001b[1;32mIn [16]\u001b[0m, in \u001b[0;36m<cell line: 4>\u001b[1;34m()\u001b[0m\n\u001b[0;32m      2\u001b[0m \u001b[38;5;28mprint\u001b[39m(my_name \u001b[38;5;241m+\u001b[39m my_lastname)\n\u001b[0;32m      3\u001b[0m \u001b[38;5;28mprint\u001b[39m(\u001b[38;5;241m1\u001b[39m \u001b[38;5;241m+\u001b[39m \u001b[38;5;241m2\u001b[39m)\n\u001b[1;32m----> 4\u001b[0m \u001b[38;5;28mprint\u001b[39m(\u001b[38;5;241;43m1\u001b[39;49m\u001b[43m \u001b[49m\u001b[38;5;241;43m+\u001b[39;49m\u001b[43m \u001b[49m\u001b[43mmy_name\u001b[49m)\n",
      "\u001b[1;31mTypeError\u001b[0m: unsupported operand type(s) for +: 'int' and 'str'"
     ]
    }
   ],
   "source": [
    "my_lastname = \"Ortiz\"\n",
    "print(my_name + my_lastname)\n",
    "print(1 + 2)\n",
    "print(1 + my_name)"
   ]
  },
  {
   "cell_type": "code",
   "execution_count": 17,
   "id": "64971e11",
   "metadata": {},
   "outputs": [
    {
     "name": "stdout",
     "output_type": "stream",
     "text": [
      "1000\n",
      "1500\n"
     ]
    }
   ],
   "source": [
    "a = 1000\n",
    "print(a)\n",
    "a += 500\n",
    "print(a)"
   ]
  },
  {
   "cell_type": "code",
   "execution_count": 19,
   "id": "6bf229e2",
   "metadata": {},
   "outputs": [
    {
     "name": "stdout",
     "output_type": "stream",
     "text": [
      "\n",
      "Este es un párrafo\n",
      "en diferentes líneas\n",
      "\n"
     ]
    }
   ],
   "source": [
    "paragraph =  \"\"\"\n",
    "Este es un párrafo\n",
    "en diferentes líneas\n",
    "\"\"\"\n",
    "print(paragraph)"
   ]
  },
  {
   "cell_type": "code",
   "execution_count": 24,
   "id": "d51034c4",
   "metadata": {},
   "outputs": [
    {
     "name": "stdout",
     "output_type": "stream",
     "text": [
      "Usted es menor de edad\n"
     ]
    }
   ],
   "source": [
    "age = 16\n",
    "year = 2022\n",
    "if (age > 18) and (year > 1991) :\n",
    "    print(\"Usted es mayor de edad.\")\n",
    "else:\n",
    "    print(\"Usted es menor de edad\")"
   ]
  },
  {
   "cell_type": "code",
   "execution_count": 28,
   "id": "551edcd6",
   "metadata": {},
   "outputs": [
    {
     "name": "stdout",
     "output_type": "stream",
     "text": [
      "¿Cuántos años tienes? 30\n",
      "Su año de nacimiento es 1992\n"
     ]
    }
   ],
   "source": [
    "current_year = 2022\n",
    "age = int(input(\"¿Cuántos años tienes? \"))\n",
    "print(\"Su año de nacimiento es \" + str(current_year - age))"
   ]
  },
  {
   "cell_type": "code",
   "execution_count": 34,
   "id": "c83d7835",
   "metadata": {},
   "outputs": [
    {
     "name": "stdout",
     "output_type": "stream",
     "text": [
      "Ingrese límite inferior: -3\n",
      "Ingrese límite superior: 5\n",
      "Ingrese el valor a comparar: 0\n",
      "El valor ingresado se encuentra en el límite indicado.\n"
     ]
    }
   ],
   "source": [
    "low_limit = float(input(\"Ingrese límite inferior: \"))\n",
    "upper_limit = float(input(\"Ingrese límite superior: \"))\n",
    "if low_limit > upper_limit:\n",
    "    print(\"El límite inferior es mayor que el límite superior.\")\n",
    "else: \n",
    "    value = float(input(\"Ingrese el valor a comparar: \"))\n",
    "    if (value > low_limit) and (value < upper_limit):\n",
    "        print(\"El valor ingresado se encuentra en el límite indicado.\")\n",
    "    else:\n",
    "        print(\"El valor ingresado NO se encuentra en el límite indicado.\")"
   ]
  },
  {
   "cell_type": "code",
   "execution_count": 33,
   "id": "1e43952c",
   "metadata": {},
   "outputs": [
    {
     "name": "stdout",
     "output_type": "stream",
     "text": [
      "Ingrese el primer nombre: Miguel\n",
      "Ingrese el segundo nombre: miguel\n",
      "Los nombres son iguales.\n"
     ]
    }
   ],
   "source": [
    "name_1 = input(\"Ingrese el primer nombre: \")\n",
    "name_2 = input(\"Ingrese el segundo nombre: \")\n",
    "if name_1.lower() == name_2.lower():\n",
    "    print(\"Los nombres son iguales.\")\n",
    "else:\n",
    "    print(\"Los nombres son diferentes.\")"
   ]
  },
  {
   "cell_type": "code",
   "execution_count": 35,
   "id": "c3d1e90e",
   "metadata": {},
   "outputs": [
    {
     "name": "stdout",
     "output_type": "stream",
     "text": [
      "Ingrese la calificación de la película (0 - 10): 5\n",
      "La película es mala.\n"
     ]
    }
   ],
   "source": [
    "rating = int(input(\"Ingrese la calificación de la película (0 - 10): \"))\n",
    "if rating > 8:\n",
    "    print(\"La película es excelente.\")\n",
    "elif rating  > 6:\n",
    "    print(\"La película es buena.\")\n",
    "else:\n",
    "    print(\"La película es mala.\")"
   ]
  },
  {
   "cell_type": "code",
   "execution_count": 49,
   "id": "e9fa699b",
   "metadata": {},
   "outputs": [
    {
     "name": "stdout",
     "output_type": "stream",
     "text": [
      "Ingrese el primer número: 9\n",
      "Ingrese el segundo número: 4\n",
      "Ingrese el tercer número: 2\n",
      "El número mayor es 9.0\n"
     ]
    }
   ],
   "source": [
    "a = float(input(\"Ingrese el primer número: \"))\n",
    "b = float(input(\"Ingrese el segundo número: \"))\n",
    "c = float(input(\"Ingrese el tercer número: \"))\n",
    "if (a == b) and (b == c):\n",
    "    print(\"Los tres números son iguales.\")\n",
    "elif (a >= b) and (a >= c):\n",
    "    print(\"El número mayor es \" + str(a))\n",
    "elif (b >= a) and (b >= c):\n",
    "    print(\"El número mayor es \" + str(b))\n",
    "elif (c >= a) and (c >= b):\n",
    "    print(\"El número mayor es \" + str(c))"
   ]
  },
  {
   "cell_type": "code",
   "execution_count": 43,
   "id": "0b3f8b2c",
   "metadata": {},
   "outputs": [
    {
     "name": "stdout",
     "output_type": "stream",
     "text": [
      "Ingrese n: 30\n",
      "Not Weird\n"
     ]
    }
   ],
   "source": [
    "n = int(input(\"Ingrese n: \"))\n",
    "if (n%2 != 0) or ((n >= 6) and (n <= 20)):\n",
    "    print(\"Weird\")\n",
    "elif (n%2 == 0) or ((n >= 2) and (n <= 5)):\n",
    "    print(\"Not Weird\")"
   ]
  },
  {
   "cell_type": "code",
   "execution_count": null,
   "id": "2cbee275",
   "metadata": {},
   "outputs": [],
   "source": []
  }
 ],
 "metadata": {
  "kernelspec": {
   "display_name": "Python 3 (ipykernel)",
   "language": "python",
   "name": "python3"
  },
  "language_info": {
   "codemirror_mode": {
    "name": "ipython",
    "version": 3
   },
   "file_extension": ".py",
   "mimetype": "text/x-python",
   "name": "python",
   "nbconvert_exporter": "python",
   "pygments_lexer": "ipython3",
   "version": "3.9.12"
  }
 },
 "nbformat": 4,
 "nbformat_minor": 5
}
