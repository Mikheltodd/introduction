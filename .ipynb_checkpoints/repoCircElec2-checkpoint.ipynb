{
 "cells": [
  {
   "cell_type": "markdown",
   "id": "e0e20968",
   "metadata": {},
   "source": [
    "## Repositorio Circuitos Eléctricos 2\n",
    "\n",
    "Repositorio para realizar pruebas en el curso de circuitos.\n",
    "#### Estudiantes\n",
    "- Miguel\n",
    "- Manuel\n",
    "- Jaider"
   ]
  },
  {
   "cell_type": "code",
   "execution_count": 9,
   "id": "ec0a4fe9",
   "metadata": {},
   "outputs": [
    {
     "name": "stdout",
     "output_type": "stream",
     "text": [
      "5.0\n"
     ]
    }
   ],
   "source": [
    "import numpy as np\n",
    "i = 1j\n",
    "a = 3 \n",
    "b = 4 \n",
    "c = a + b*i\n",
    "print(np.abs(c))\n",
    "# Ejercicio Miguel: 18 - j3"
   ]
  },
  {
   "cell_type": "code",
   "execution_count": null,
   "id": "e1c8ccef",
   "metadata": {},
   "outputs": [],
   "source": []
  }
 ],
 "metadata": {
  "kernelspec": {
   "display_name": "Python 3 (ipykernel)",
   "language": "python",
   "name": "python3"
  },
  "language_info": {
   "codemirror_mode": {
    "name": "ipython",
    "version": 3
   },
   "file_extension": ".py",
   "mimetype": "text/x-python",
   "name": "python",
   "nbconvert_exporter": "python",
   "pygments_lexer": "ipython3",
   "version": "3.9.12"
  }
 },
 "nbformat": 4,
 "nbformat_minor": 5
}
