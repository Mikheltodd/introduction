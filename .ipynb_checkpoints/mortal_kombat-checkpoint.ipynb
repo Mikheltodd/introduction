{
 "cells": [
  {
   "cell_type": "markdown",
   "id": "870b39c1",
   "metadata": {},
   "source": [
    "# Warrior"
   ]
  },
  {
   "cell_type": "code",
   "execution_count": 207,
   "id": "cade76a1",
   "metadata": {},
   "outputs": [],
   "source": [
    "class Warrior():\n",
    "    def __init__(self, element, name):\n",
    "        self.element = element                    \n",
    "        self.name = name\n",
    "        self.position = [0, 0, 0]\n",
    "        self.direction = [1, 0, 'right']\n",
    "        \n",
    "    def translate_direction(self):\n",
    "        if (self.direction[0] == 1) and (self.direction[1] == 0):\n",
    "            self.direction[2] = 'right'\n",
    "        elif (self.direction[0] == 0) and (self.direction[1] == 1):\n",
    "            self.direction[2] = 'up'\n",
    "        elif (self.direction[0] == -1) and (self.direction[1] == 0):\n",
    "            self.direction[2] = 'left'\n",
    "        elif (self.direction[0] == 0) and (self.direction[1] == -1):\n",
    "            self.direction[2] = 'down'\n",
    "            \n",
    "    def get_position(self):\n",
    "        print(f\"Current position:\\n \\tX: {self.position[0]}m, \\tY: {self.position[1]}m, \\tZ: {self.position[2]}m\\n\\tDirection: {self.direction}\\n\")\n",
    "         \n",
    "    def rotate(self, direction):\n",
    "        if direction == 1:\n",
    "            if (self.direction[0] == 1) and (self.direction[1] == 0):\n",
    "                self.direction[0] = 0\n",
    "                self.direction[1] = 1\n",
    "            elif (self.direction[0] == 0) and (self.direction[1] == 1):\n",
    "                self.direction[0] = -1\n",
    "                self.direction[1] = 0\n",
    "            elif (self.direction[0] == -1) and (self.direction[1] == 0):\n",
    "                self.direction[0] = 0\n",
    "                self.direction[1] = -1\n",
    "            elif (self.direction[0] == 0) and (self.direction[1] == -1):\n",
    "                self.direction[0] = 1\n",
    "                self.direction[1] = 0\n",
    "        if direction == -1:\n",
    "            if (self.direction[0] == 1) and (self.direction[1] == 0):\n",
    "                self.direction[0] = 0\n",
    "                self.direction[1] = -1\n",
    "            elif (self.direction[0] == 0) and (self.direction[1] == 1):\n",
    "                self.direction[0] = 1\n",
    "                self.direction[1] = 0\n",
    "            elif (self.direction[0] == -1) and (self.direction[1] == 0):\n",
    "                self.direction[0] = 0\n",
    "                self.direction[1] = 1\n",
    "            elif (self.direction[0] == 0) and (self.direction[1] == -1):\n",
    "                self.direction[0] = -1\n",
    "                self.direction[1] = 0\n",
    "        self.translate_direction()\n",
    "        \n",
    "    def forward(self, steps):\n",
    "        if self.direction[2] == 'right':\n",
    "            self.position[0] += steps\n",
    "        elif self.direction[2] == 'up':\n",
    "            self.position[1] += steps\n",
    "        elif self.direction[2] == 'left':\n",
    "            self.position[0] -= steps\n",
    "        elif self.direction[2] == 'down':\n",
    "            self.position[1] -= steps\n",
    "    \n",
    "    def move(self, steps, direction):\n",
    "        if (direction == 'left') or (direction == 'right'):\n",
    "            print(f\"Move {steps} steps to the {direction}:\\n\")\n",
    "        else:\n",
    "            print(f\"Move {steps} steps {direction}:\\n\")\n",
    "        if direction == 'left':\n",
    "            self.rotate(1)\n",
    "            self.forward(steps)\n",
    "        elif direction == 'right':\n",
    "            self.rotate(-1)\n",
    "            self.forward(steps)\n",
    "        elif direction == 'up':\n",
    "            while self.direction[2] != 'up':\n",
    "                self.rotate(1)\n",
    "            self.forward(steps)\n",
    "        elif direction == 'down':\n",
    "            while self.direction[2] != 'down':\n",
    "                self.rotate(1)\n",
    "            self.forward(steps)\n",
    "        self.translate_direction()\n",
    "            \n",
    "    def __repr__(self):\n",
    "        return f\"A warrior of element {self.element} called {self.name}\""
   ]
  },
  {
   "cell_type": "code",
   "execution_count": 208,
   "id": "5423808d",
   "metadata": {},
   "outputs": [
    {
     "name": "stdout",
     "output_type": "stream",
     "text": [
      "A warrior of element Aang called Air\n"
     ]
    }
   ],
   "source": [
    "aang = Warrior(\"Aang\", \"Air\")\n",
    "print(aang)"
   ]
  },
  {
   "cell_type": "code",
   "execution_count": 209,
   "id": "d87fbac8",
   "metadata": {},
   "outputs": [
    {
     "name": "stdout",
     "output_type": "stream",
     "text": [
      "Current position:\n",
      " \tX: 0m, \tY: 0m, \tZ: 0m\n",
      "\tDirection: [1, 0, 'right']\n",
      "\n",
      "Move 3 steps to the left:\n",
      "\n",
      "Current position:\n",
      " \tX: 0m, \tY: 3m, \tZ: 0m\n",
      "\tDirection: [0, 1, 'up']\n",
      "\n",
      "Move 3 steps to the right:\n",
      "\n",
      "Current position:\n",
      " \tX: 3m, \tY: 3m, \tZ: 0m\n",
      "\tDirection: [1, 0, 'right']\n",
      "\n",
      "Move 3 steps up:\n",
      "\n",
      "Current position:\n",
      " \tX: 3m, \tY: 6m, \tZ: 0m\n",
      "\tDirection: [0, 1, 'up']\n",
      "\n",
      "Move 3 steps to the left:\n",
      "\n",
      "Current position:\n",
      " \tX: 0m, \tY: 6m, \tZ: 0m\n",
      "\tDirection: [-1, 0, 'left']\n",
      "\n",
      "Move 3 steps down:\n",
      "\n",
      "Current position:\n",
      " \tX: 0m, \tY: 3m, \tZ: 0m\n",
      "\tDirection: [0, -1, 'down']\n",
      "\n"
     ]
    }
   ],
   "source": [
    "#aang.rotate(1)\n",
    "#aang.rotate(1)\n",
    "#aang.rotate(1)\n",
    "#aang.rotate(-1)\n",
    "#aang.rotate(-1)\n",
    "aang.get_position()\n",
    "aang.move(3, 'left')\n",
    "aang.get_position()\n",
    "aang.move(3, 'right')\n",
    "aang.get_position()\n",
    "aang.move(3, 'up')\n",
    "aang.get_position()\n",
    "aang.move(3, 'left')\n",
    "aang.get_position()\n",
    "aang.move(3, 'down')\n",
    "aang.get_position()"
   ]
  },
  {
   "cell_type": "code",
   "execution_count": null,
   "id": "18e83f25",
   "metadata": {},
   "outputs": [],
   "source": []
  },
  {
   "cell_type": "code",
   "execution_count": null,
   "id": "9ac7b30d",
   "metadata": {},
   "outputs": [],
   "source": []
  }
 ],
 "metadata": {
  "kernelspec": {
   "display_name": "Python 3 (ipykernel)",
   "language": "python",
   "name": "python3"
  },
  "language_info": {
   "codemirror_mode": {
    "name": "ipython",
    "version": 3
   },
   "file_extension": ".py",
   "mimetype": "text/x-python",
   "name": "python",
   "nbconvert_exporter": "python",
   "pygments_lexer": "ipython3",
   "version": "3.9.12"
  }
 },
 "nbformat": 4,
 "nbformat_minor": 5
}
