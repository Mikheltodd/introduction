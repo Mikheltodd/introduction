{
 "cells": [
  {
   "cell_type": "code",
   "execution_count": 16,
   "id": "78a718da",
   "metadata": {},
   "outputs": [],
   "source": [
    "def my_func(name, color, *values, **roles):\n",
    "    print(f\"Hello, {name}.\")\n",
    "    print(f\"I like {color}\")\n",
    "    my_sum = 0\n",
    "    for value in values:\n",
    "        my_sum += value\n",
    "    print(f\"You have {my_sum} bucks\")\n",
    "    for role, value in roles.items():\n",
    "        print(f\"{role}: {value}\")"
   ]
  },
  {
   "cell_type": "code",
   "execution_count": 17,
   "id": "e39078e0",
   "metadata": {},
   "outputs": [
    {
     "name": "stdout",
     "output_type": "stream",
     "text": [
      "Hello, Miguel.\n",
      "I like Blue\n",
      "You have 40 bucks\n",
      "lawyer: 3\n",
      "teacher: 4\n",
      "dancer: 5\n"
     ]
    }
   ],
   "source": [
    "my_func('Miguel', 'Blue', 1, 3, 4, 5, 9, 10, 8, lawyer=3, teacher=4, dancer=5)"
   ]
  },
  {
   "cell_type": "code",
   "execution_count": 18,
   "id": "755bb450",
   "metadata": {},
   "outputs": [
    {
     "name": "stdout",
     "output_type": "stream",
     "text": [
      "['ArithmeticError', 'AssertionError', 'AttributeError', 'BaseException', 'BlockingIOError', 'BrokenPipeError', 'BufferError', 'BytesWarning', 'ChildProcessError', 'ConnectionAbortedError', 'ConnectionError', 'ConnectionRefusedError', 'ConnectionResetError', 'DeprecationWarning', 'EOFError', 'Ellipsis', 'EnvironmentError', 'Exception', 'False', 'FileExistsError', 'FileNotFoundError', 'FloatingPointError', 'FutureWarning', 'GeneratorExit', 'IOError', 'ImportError', 'ImportWarning', 'IndentationError', 'IndexError', 'InterruptedError', 'IsADirectoryError', 'KeyError', 'KeyboardInterrupt', 'LookupError', 'MemoryError', 'ModuleNotFoundError', 'NameError', 'None', 'NotADirectoryError', 'NotImplemented', 'NotImplementedError', 'OSError', 'OverflowError', 'PendingDeprecationWarning', 'PermissionError', 'ProcessLookupError', 'RecursionError', 'ReferenceError', 'ResourceWarning', 'RuntimeError', 'RuntimeWarning', 'StopAsyncIteration', 'StopIteration', 'SyntaxError', 'SyntaxWarning', 'SystemError', 'SystemExit', 'TabError', 'TimeoutError', 'True', 'TypeError', 'UnboundLocalError', 'UnicodeDecodeError', 'UnicodeEncodeError', 'UnicodeError', 'UnicodeTranslateError', 'UnicodeWarning', 'UserWarning', 'ValueError', 'Warning', 'WindowsError', 'ZeroDivisionError', '__IPYTHON__', '__build_class__', '__debug__', '__doc__', '__import__', '__loader__', '__name__', '__package__', '__spec__', 'abs', 'all', 'any', 'ascii', 'bin', 'bool', 'breakpoint', 'bytearray', 'bytes', 'callable', 'chr', 'classmethod', 'compile', 'complex', 'copyright', 'credits', 'delattr', 'dict', 'dir', 'display', 'divmod', 'enumerate', 'eval', 'exec', 'execfile', 'filter', 'float', 'format', 'frozenset', 'get_ipython', 'getattr', 'globals', 'hasattr', 'hash', 'help', 'hex', 'id', 'input', 'int', 'isinstance', 'issubclass', 'iter', 'len', 'license', 'list', 'locals', 'map', 'max', 'memoryview', 'min', 'next', 'object', 'oct', 'open', 'ord', 'pow', 'print', 'property', 'range', 'repr', 'reversed', 'round', 'runfile', 'set', 'setattr', 'slice', 'sorted', 'staticmethod', 'str', 'sum', 'super', 'tuple', 'type', 'vars', 'zip']\n"
     ]
    }
   ],
   "source": [
    "print(dir(__builtin__))"
   ]
  },
  {
   "cell_type": "code",
   "execution_count": null,
   "id": "51c77dbe",
   "metadata": {},
   "outputs": [],
   "source": []
  },
  {
   "cell_type": "code",
   "execution_count": null,
   "id": "f710364b",
   "metadata": {},
   "outputs": [],
   "source": []
  },
  {
   "cell_type": "code",
   "execution_count": null,
   "id": "3a8583db",
   "metadata": {},
   "outputs": [],
   "source": []
  },
  {
   "cell_type": "code",
   "execution_count": null,
   "id": "0a0d0314",
   "metadata": {},
   "outputs": [],
   "source": []
  },
  {
   "cell_type": "code",
   "execution_count": null,
   "id": "d2091cde",
   "metadata": {},
   "outputs": [],
   "source": []
  },
  {
   "cell_type": "code",
   "execution_count": 26,
   "id": "c785f0ac",
   "metadata": {},
   "outputs": [
    {
     "name": "stdout",
     "output_type": "stream",
     "text": [
      "Because I'm Batman\n"
     ]
    }
   ],
   "source": [
    "with open('my_text.txt', 'r') as my_text:\n",
    "    content = my_text.read()\n",
    "print(content)"
   ]
  },
  {
   "cell_type": "code",
   "execution_count": 24,
   "id": "689d3473",
   "metadata": {},
   "outputs": [
    {
     "name": "stdout",
     "output_type": "stream",
     "text": [
      "The bird is the word\n"
     ]
    }
   ],
   "source": [
    "with open('..\\other_text.txt') as my_text:\n",
    "    content = my_text.read()\n",
    "print(content)"
   ]
  },
  {
   "cell_type": "code",
   "execution_count": 25,
   "id": "356bf3e4",
   "metadata": {},
   "outputs": [],
   "source": [
    "content = \"Because I'm Batman\"\n",
    "with open('my_text.txt', 'w') as my_text:\n",
    "    my_text.write(content)"
   ]
  },
  {
   "cell_type": "code",
   "execution_count": 30,
   "id": "43c2b556",
   "metadata": {},
   "outputs": [],
   "source": [
    "content = \"Because I'm Batman\"\n",
    "with open('my_text.txt', 'a') as my_text:\n",
    "    my_text.write(content)"
   ]
  },
  {
   "cell_type": "code",
   "execution_count": 32,
   "id": "2ec2c1e8",
   "metadata": {},
   "outputs": [
    {
     "name": "stdout",
     "output_type": "stream",
     "text": [
      "Name;Height\n",
      "Stephanie;159\n",
      "Nestor;160\n",
      "Brayan;173\n",
      "Jorge;185\n",
      "Alexander;175\n",
      "\n"
     ]
    }
   ],
   "source": [
    "with open('heights.csv') as heights:\n",
    "    print(heights.read())"
   ]
  },
  {
   "cell_type": "code",
   "execution_count": 33,
   "id": "83e68a9c",
   "metadata": {},
   "outputs": [
    {
     "name": "stdout",
     "output_type": "stream",
     "text": [
      "\"First Name\",\"Last Name\",\"Age\",\"Email\",\"Salary\"\n",
      "\"Rubie\",\"Thompson\",\"20\",\"r.thompson@randatmail.com\",\"5118\"\n",
      "\"Walter\",\"Wells\",\"18\",\"w.wells@randatmail.com\",\"7488\"\n",
      "\"Kimberly\",\"Harris\",\"26\",\"k.harris@randatmail.com\",\"4187\"\n",
      "\"Edward\",\"Miller\",\"18\",\"e.miller@randatmail.com\",\"3862\"\n",
      "\"Madaline\",\"Mitchell\",\"24\",\"m.mitchell@randatmail.com\",\"1916\"\n",
      "\"Jack\",\"Russell\",\"28\",\"j.russell@randatmail.com\",\"5051\"\n",
      "\"Alexia\",\"Edwards\",\"20\",\"a.edwards@randatmail.com\",\"4725\"\n",
      "\"Byron\",\"Ross\",\"28\",\"b.ross@randatmail.com\",\"3864\"\n",
      "\"Abraham\",\"Farrell\",\"25\",\"a.farrell@randatmail.com\",\"6614\"\n",
      "\"Stella\",\"Richards\",\"23\",\"s.richards@randatmail.com\",\"7660\"\n",
      "\"Dale\",\"Johnson\",\"25\",\"d.johnson@randatmail.com\",\"8154\"\n",
      "\"Steven\",\"Watson\",\"28\",\"s.watson@randatmail.com\",\"4260\"\n",
      "\"Frederick\",\"Baker\",\"19\",\"f.baker@randatmail.com\",\"1506\"\n",
      "\"Sawyer\",\"Barrett\",\"29\",\"s.barrett@randatmail.com\",\"2888\"\n",
      "\"James\",\"Watson\",\"26\",\"j.watson@randatmail.com\",\"3867\"\n",
      "\"Michael\",\"Ellis\",\"18\",\"m.ellis@randatmail.com\",\"8540\"\n",
      "\"Sam\",\"Hunt\",\"25\",\"s.hunt@randatmail.com\",\"1226\"\n",
      "\"Savana\",\"Davis\",\"21\",\"s.davis@randatmail.com\",\"1556\"\n",
      "\"Roman\",\"West\",\"26\",\"r.west@randatmail.com\",\"4104\"\n",
      "\"Naomi\",\"Henderson\",\"20\",\"n.henderson@randatmail.com\",\"7839\"\n",
      "\n"
     ]
    }
   ],
   "source": [
    "with open('data.csv') as data:\n",
    "    print(data.read())"
   ]
  },
  {
   "cell_type": "code",
   "execution_count": 39,
   "id": "ffb9a27b",
   "metadata": {},
   "outputs": [
    {
     "name": "stdout",
     "output_type": "stream",
     "text": [
      "23.35\n"
     ]
    }
   ],
   "source": [
    "import csv\n",
    "ages = []\n",
    "with open('data.csv') as user_heights:\n",
    "    data_heights = csv.DictReader(user_heights)\n",
    "    for row in data_heights:\n",
    "        ages.append(float(row['Age']))\n",
    "print(sum(ages)/len(ages))"
   ]
  },
  {
   "cell_type": "code",
   "execution_count": null,
   "id": "e55237a2",
   "metadata": {},
   "outputs": [],
   "source": []
  }
 ],
 "metadata": {
  "kernelspec": {
   "display_name": "Python 3 (ipykernel)",
   "language": "python",
   "name": "python3"
  },
  "language_info": {
   "codemirror_mode": {
    "name": "ipython",
    "version": 3
   },
   "file_extension": ".py",
   "mimetype": "text/x-python",
   "name": "python",
   "nbconvert_exporter": "python",
   "pygments_lexer": "ipython3",
   "version": "3.9.12"
  }
 },
 "nbformat": 4,
 "nbformat_minor": 5
}
