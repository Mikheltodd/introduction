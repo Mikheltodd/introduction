{
 "cells": [
  {
   "cell_type": "markdown",
   "id": "27bc5150",
   "metadata": {},
   "source": [
    "## Dominant Cells\n",
    "\n",
    "There is a given list of lists of interger that represent a 2-dimensional grid with _n_ rows and _m_ columns.\n",
    "A cell is called a dominat cell if it has a strictly greater value than all of its neighbors.\n",
    "Two cells are neighbors when they share a common side or a common corner, so a cell can have up to 8 neighbors.\n",
    "Find the number of dominant cells in the grid.\n",
    "\n",
    "**Function Description**\n",
    "- Complete the function _numCells_ in the editor below.\n",
    "\n",
    "_numCells_ has the following parameter(s):\n",
    "> _int grid[n][m]_: a 2-dimensional array of integers\n",
    "\n",
    "**Returns**\n",
    "> _int_: the number of dominant cells in the grid.\n",
    "\n",
    "**Constrains**\n",
    "- 1 <= n,m <= 500\n",
    "- There are at least 2 cells in the grid.\n",
    "- 1 <= grid[i][j] <= 100"
   ]
  },
  {
   "cell_type": "code",
   "execution_count": 1,
   "id": "c8e0f5a7",
   "metadata": {},
   "outputs": [],
   "source": [
    "def numCells(my_grid):\n",
    "    num_of_dominant_cells = 0\n",
    "    matrix = ''\n",
    "    \n",
    "    for i in range(len(my_grid)):\n",
    "        for j in range(len(my_grid[i])):\n",
    "            matrix += str(my_grid[i][j]) + ' '\n",
    "        matrix += '\\n'\n",
    "    print(matrix)\n",
    "    \n",
    "    neighbors = []\n",
    "    for i in range(len(my_grid)):\n",
    "        for j in range(len(my_grid[i])):\n",
    "            for k in range(-1, 2):\n",
    "                for l in range(-1, 2):\n",
    "                    if (i+k>=0) and (i+k<len(my_grid)):\n",
    "                        if (j+l>=0) and (j+l<len(my_grid[i])):\n",
    "                            if ((k==0) and (l==0)):\n",
    "                                continue\n",
    "                            else:\n",
    "                                neighbors.append(my_grid[i+k][j+l])\n",
    "            if len(neighbors) > 0:\n",
    "                flag = True\n",
    "                for neighbor in neighbors:\n",
    "                    if neighbor >= my_grid[i][j]:\n",
    "                        flag = False\n",
    "                        break\n",
    "                \n",
    "            if flag:\n",
    "                num_of_dominant_cells += 1\n",
    "                    \n",
    "            #print(neighbors)\n",
    "            neighbors = []\n",
    "            \n",
    "    return num_of_dominant_cells"
   ]
  },
  {
   "cell_type": "code",
   "execution_count": 5,
   "id": "271457ef",
   "metadata": {},
   "outputs": [
    {
     "name": "stdout",
     "output_type": "stream",
     "text": [
      "2 3 5 8 \n",
      "10 5 4 9 \n",
      "9 5 7 4 \n",
      "1 2 3 10 \n",
      "\n",
      "Número de celdas dominantes: 3\n"
     ]
    }
   ],
   "source": [
    "test_grid = [[2, 3, 5, 8], [10, 5, 4, 9], [9, 5, 7, 4], [1, 2, 3, 10]]\n",
    "print(f\"Número de celdas dominantes: {numCells(test_grid)}\")"
   ]
  },
  {
   "cell_type": "code",
   "execution_count": null,
   "id": "ed50c1b9",
   "metadata": {},
   "outputs": [],
   "source": []
  }
 ],
 "metadata": {
  "kernelspec": {
   "display_name": "Python 3 (ipykernel)",
   "language": "python",
   "name": "python3"
  },
  "language_info": {
   "codemirror_mode": {
    "name": "ipython",
    "version": 3
   },
   "file_extension": ".py",
   "mimetype": "text/x-python",
   "name": "python",
   "nbconvert_exporter": "python",
   "pygments_lexer": "ipython3",
   "version": "3.9.12"
  }
 },
 "nbformat": 4,
 "nbformat_minor": 5
}
