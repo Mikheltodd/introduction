{
 "cells": [
  {
   "cell_type": "code",
   "execution_count": 16,
   "id": "78a718da",
   "metadata": {},
   "outputs": [],
   "source": [
    "def my_func(name, color, *values, **roles):\n",
    "    print(f\"Hello, {name}.\")\n",
    "    print(f\"I like {color}\")\n",
    "    my_sum = 0\n",
    "    for value in values:\n",
    "        my_sum += value\n",
    "    print(f\"You have {my_sum} bucks\")\n",
    "    for role, value in roles.items():\n",
    "        print(f\"{role}: {value}\")"
   ]
  },
  {
   "cell_type": "code",
   "execution_count": 17,
   "id": "e39078e0",
   "metadata": {},
   "outputs": [
    {
     "name": "stdout",
     "output_type": "stream",
     "text": [
      "Hello, Miguel.\n",
      "I like Blue\n",
      "You have 40 bucks\n",
      "lawyer: 3\n",
      "teacher: 4\n",
      "dancer: 5\n"
     ]
    }
   ],
   "source": [
    "my_func('Miguel', 'Blue', 1, 3, 4, 5, 9, 10, 8, lawyer=3, teacher=4, dancer=5)"
   ]
  },
  {
   "cell_type": "markdown",
   "id": "501f0bab",
   "metadata": {},
   "source": [
    "## Files and Modules"
   ]
  },
  {
   "cell_type": "code",
   "execution_count": 18,
   "id": "755bb450",
   "metadata": {},
   "outputs": [
    {
     "name": "stdout",
     "output_type": "stream",
     "text": [
      "['ArithmeticError', 'AssertionError', 'AttributeError', 'BaseException', 'BlockingIOError', 'BrokenPipeError', 'BufferError', 'BytesWarning', 'ChildProcessError', 'ConnectionAbortedError', 'ConnectionError', 'ConnectionRefusedError', 'ConnectionResetError', 'DeprecationWarning', 'EOFError', 'Ellipsis', 'EnvironmentError', 'Exception', 'False', 'FileExistsError', 'FileNotFoundError', 'FloatingPointError', 'FutureWarning', 'GeneratorExit', 'IOError', 'ImportError', 'ImportWarning', 'IndentationError', 'IndexError', 'InterruptedError', 'IsADirectoryError', 'KeyError', 'KeyboardInterrupt', 'LookupError', 'MemoryError', 'ModuleNotFoundError', 'NameError', 'None', 'NotADirectoryError', 'NotImplemented', 'NotImplementedError', 'OSError', 'OverflowError', 'PendingDeprecationWarning', 'PermissionError', 'ProcessLookupError', 'RecursionError', 'ReferenceError', 'ResourceWarning', 'RuntimeError', 'RuntimeWarning', 'StopAsyncIteration', 'StopIteration', 'SyntaxError', 'SyntaxWarning', 'SystemError', 'SystemExit', 'TabError', 'TimeoutError', 'True', 'TypeError', 'UnboundLocalError', 'UnicodeDecodeError', 'UnicodeEncodeError', 'UnicodeError', 'UnicodeTranslateError', 'UnicodeWarning', 'UserWarning', 'ValueError', 'Warning', 'WindowsError', 'ZeroDivisionError', '__IPYTHON__', '__build_class__', '__debug__', '__doc__', '__import__', '__loader__', '__name__', '__package__', '__spec__', 'abs', 'all', 'any', 'ascii', 'bin', 'bool', 'breakpoint', 'bytearray', 'bytes', 'callable', 'chr', 'classmethod', 'compile', 'complex', 'copyright', 'credits', 'delattr', 'dict', 'dir', 'display', 'divmod', 'enumerate', 'eval', 'exec', 'execfile', 'filter', 'float', 'format', 'frozenset', 'get_ipython', 'getattr', 'globals', 'hasattr', 'hash', 'help', 'hex', 'id', 'input', 'int', 'isinstance', 'issubclass', 'iter', 'len', 'license', 'list', 'locals', 'map', 'max', 'memoryview', 'min', 'next', 'object', 'oct', 'open', 'ord', 'pow', 'print', 'property', 'range', 'repr', 'reversed', 'round', 'runfile', 'set', 'setattr', 'slice', 'sorted', 'staticmethod', 'str', 'sum', 'super', 'tuple', 'type', 'vars', 'zip']\n"
     ]
    }
   ],
   "source": [
    "print(dir(__builtin__))"
   ]
  },
  {
   "cell_type": "code",
   "execution_count": 26,
   "id": "c785f0ac",
   "metadata": {},
   "outputs": [
    {
     "name": "stdout",
     "output_type": "stream",
     "text": [
      "Because I'm Batman\n"
     ]
    }
   ],
   "source": [
    "with open('my_text.txt', 'r') as my_text:\n",
    "    content = my_text.read()\n",
    "print(content)"
   ]
  },
  {
   "cell_type": "code",
   "execution_count": 24,
   "id": "689d3473",
   "metadata": {},
   "outputs": [
    {
     "name": "stdout",
     "output_type": "stream",
     "text": [
      "The bird is the word\n"
     ]
    }
   ],
   "source": [
    "with open('..\\other_text.txt') as my_text:\n",
    "    content = my_text.read()\n",
    "print(content)"
   ]
  },
  {
   "cell_type": "code",
   "execution_count": 25,
   "id": "356bf3e4",
   "metadata": {},
   "outputs": [],
   "source": [
    "content = \"Because I'm Batman\"\n",
    "with open('my_text.txt', 'w') as my_text:\n",
    "    my_text.write(content)"
   ]
  },
  {
   "cell_type": "code",
   "execution_count": 30,
   "id": "43c2b556",
   "metadata": {},
   "outputs": [],
   "source": [
    "content = \"Because I'm Batman\"\n",
    "with open('my_text.txt', 'a') as my_text:\n",
    "    my_text.write(content)"
   ]
  },
  {
   "cell_type": "code",
   "execution_count": 32,
   "id": "2ec2c1e8",
   "metadata": {},
   "outputs": [
    {
     "name": "stdout",
     "output_type": "stream",
     "text": [
      "Name;Height\n",
      "Stephanie;159\n",
      "Nestor;160\n",
      "Brayan;173\n",
      "Jorge;185\n",
      "Alexander;175\n",
      "\n"
     ]
    }
   ],
   "source": [
    "with open('heights.csv') as heights:\n",
    "    print(heights.read())"
   ]
  },
  {
   "cell_type": "code",
   "execution_count": 33,
   "id": "83e68a9c",
   "metadata": {},
   "outputs": [
    {
     "name": "stdout",
     "output_type": "stream",
     "text": [
      "\"First Name\",\"Last Name\",\"Age\",\"Email\",\"Salary\"\n",
      "\"Rubie\",\"Thompson\",\"20\",\"r.thompson@randatmail.com\",\"5118\"\n",
      "\"Walter\",\"Wells\",\"18\",\"w.wells@randatmail.com\",\"7488\"\n",
      "\"Kimberly\",\"Harris\",\"26\",\"k.harris@randatmail.com\",\"4187\"\n",
      "\"Edward\",\"Miller\",\"18\",\"e.miller@randatmail.com\",\"3862\"\n",
      "\"Madaline\",\"Mitchell\",\"24\",\"m.mitchell@randatmail.com\",\"1916\"\n",
      "\"Jack\",\"Russell\",\"28\",\"j.russell@randatmail.com\",\"5051\"\n",
      "\"Alexia\",\"Edwards\",\"20\",\"a.edwards@randatmail.com\",\"4725\"\n",
      "\"Byron\",\"Ross\",\"28\",\"b.ross@randatmail.com\",\"3864\"\n",
      "\"Abraham\",\"Farrell\",\"25\",\"a.farrell@randatmail.com\",\"6614\"\n",
      "\"Stella\",\"Richards\",\"23\",\"s.richards@randatmail.com\",\"7660\"\n",
      "\"Dale\",\"Johnson\",\"25\",\"d.johnson@randatmail.com\",\"8154\"\n",
      "\"Steven\",\"Watson\",\"28\",\"s.watson@randatmail.com\",\"4260\"\n",
      "\"Frederick\",\"Baker\",\"19\",\"f.baker@randatmail.com\",\"1506\"\n",
      "\"Sawyer\",\"Barrett\",\"29\",\"s.barrett@randatmail.com\",\"2888\"\n",
      "\"James\",\"Watson\",\"26\",\"j.watson@randatmail.com\",\"3867\"\n",
      "\"Michael\",\"Ellis\",\"18\",\"m.ellis@randatmail.com\",\"8540\"\n",
      "\"Sam\",\"Hunt\",\"25\",\"s.hunt@randatmail.com\",\"1226\"\n",
      "\"Savana\",\"Davis\",\"21\",\"s.davis@randatmail.com\",\"1556\"\n",
      "\"Roman\",\"West\",\"26\",\"r.west@randatmail.com\",\"4104\"\n",
      "\"Naomi\",\"Henderson\",\"20\",\"n.henderson@randatmail.com\",\"7839\"\n",
      "\n"
     ]
    }
   ],
   "source": [
    "with open('data.csv') as data:\n",
    "    print(data.read())"
   ]
  },
  {
   "cell_type": "code",
   "execution_count": 39,
   "id": "ffb9a27b",
   "metadata": {},
   "outputs": [
    {
     "name": "stdout",
     "output_type": "stream",
     "text": [
      "23.35\n"
     ]
    }
   ],
   "source": [
    "import csv\n",
    "ages = []\n",
    "with open('data.csv') as user_heights:\n",
    "    data_heights = csv.DictReader(user_heights)\n",
    "    for row in data_heights:\n",
    "        ages.append(float(row['Age']))\n",
    "print(sum(ages)/len(ages))"
   ]
  },
  {
   "cell_type": "markdown",
   "id": "10e09b91",
   "metadata": {},
   "source": [
    "## Numpy"
   ]
  },
  {
   "cell_type": "code",
   "execution_count": 8,
   "id": "83487e2a",
   "metadata": {},
   "outputs": [
    {
     "name": "stdout",
     "output_type": "stream",
     "text": [
      "<class 'numpy.ndarray'>\n",
      "[[1 3 5 6 2 7]\n",
      " [2 4 6 7 4 3]]\n",
      "(2, 6)\n",
      "12\n"
     ]
    }
   ],
   "source": [
    "import numpy as np\n",
    "a = [1, 3, 5, 6, 2, 7]\n",
    "b = [2, 4, 6, 7, 4, 3]\n",
    "my_array = np.array([a, b])\n",
    "# print(type(a))\n",
    "print(type(my_array))\n",
    "print(my_array)\n",
    "print(my_array.shape)\n",
    "print(my_array.size)"
   ]
  },
  {
   "cell_type": "code",
   "execution_count": 15,
   "id": "77e0e454",
   "metadata": {},
   "outputs": [
    {
     "data": {
      "text/plain": [
       "7"
      ]
     },
     "execution_count": 15,
     "metadata": {},
     "output_type": "execute_result"
    }
   ],
   "source": [
    "my_array[1][3]"
   ]
  },
  {
   "cell_type": "code",
   "execution_count": 16,
   "id": "15f9cd1e",
   "metadata": {},
   "outputs": [
    {
     "name": "stdout",
     "output_type": "stream",
     "text": [
      "[0 1 2 3 4]\n"
     ]
    }
   ],
   "source": [
    "a = np.arange(5)\n",
    "print(a)"
   ]
  },
  {
   "cell_type": "code",
   "execution_count": 17,
   "id": "e5262195",
   "metadata": {},
   "outputs": [
    {
     "name": "stdout",
     "output_type": "stream",
     "text": [
      "[2 3 4 5 6]\n"
     ]
    }
   ],
   "source": [
    "b = np.arange(2, 7)\n",
    "print(b)"
   ]
  },
  {
   "cell_type": "code",
   "execution_count": 18,
   "id": "ae3cab67",
   "metadata": {},
   "outputs": [
    {
     "name": "stdout",
     "output_type": "stream",
     "text": [
      "[ 5  9 13 17]\n"
     ]
    }
   ],
   "source": [
    "c = np.arange(5, 20, 4)\n",
    "print(c)"
   ]
  },
  {
   "cell_type": "code",
   "execution_count": 21,
   "id": "f619b2a2",
   "metadata": {},
   "outputs": [
    {
     "name": "stdout",
     "output_type": "stream",
     "text": [
      "[ 1.  2.  3.  4.  5.  6.  7.  8.  9. 10.]\n"
     ]
    }
   ],
   "source": [
    "d = np.linspace(1, 10, num=10)\n",
    "print(d)"
   ]
  },
  {
   "cell_type": "code",
   "execution_count": 26,
   "id": "ce7c456b",
   "metadata": {},
   "outputs": [
    {
     "name": "stdout",
     "output_type": "stream",
     "text": [
      "[ 5  7 10  3  6]\n",
      "[ 30  54 105  14  41]\n",
      "[15 19 25 11 17]\n"
     ]
    }
   ],
   "source": [
    "vector_1 = np.array([5, 7, 10, 3, 6])\n",
    "vector_2 = np.array([x**2 + 5 for x in vector_1])\n",
    "m = 2\n",
    "b = 5\n",
    "vector_3 = np.array([m*x + b for x in vector_1])\n",
    "print(vector_1)\n",
    "print(vector_2)\n",
    "print(vector_3)"
   ]
  },
  {
   "cell_type": "code",
   "execution_count": 30,
   "id": "8a667ff8",
   "metadata": {},
   "outputs": [
    {
     "name": "stdout",
     "output_type": "stream",
     "text": [
      "[[  5  30  15]\n",
      " [  7  54  19]\n",
      " [ 10 105  25]\n",
      " [  3  14  11]\n",
      " [  6  41  17]]\n"
     ]
    }
   ],
   "source": [
    "matrix_a = np.column_stack([vector_1, vector_2, vector_3])\n",
    "print(matrix_a)"
   ]
  },
  {
   "cell_type": "code",
   "execution_count": 31,
   "id": "ebe42321",
   "metadata": {},
   "outputs": [
    {
     "name": "stdout",
     "output_type": "stream",
     "text": [
      "[[  5   7  10   3   6]\n",
      " [ 30  54 105  14  41]\n",
      " [ 15  19  25  11  17]]\n"
     ]
    }
   ],
   "source": [
    "matrix_b = np.row_stack([vector_1, vector_2, vector_3])\n",
    "print(matrix_b)"
   ]
  },
  {
   "cell_type": "code",
   "execution_count": 32,
   "id": "c68b9a9e",
   "metadata": {},
   "outputs": [
    {
     "name": "stdout",
     "output_type": "stream",
     "text": [
      "[[  5   7  10   3   6]\n",
      " [ 30  54 105  14  41]\n",
      " [ 15  19  25  11  17]]\n"
     ]
    }
   ],
   "source": [
    "print(matrix_a.T)"
   ]
  },
  {
   "cell_type": "code",
   "execution_count": 33,
   "id": "34af0e36",
   "metadata": {},
   "outputs": [
    {
     "name": "stdout",
     "output_type": "stream",
     "text": [
      "[[  5  30  15]\n",
      " [  7  54  19]\n",
      " [ 10 105  25]\n",
      " [  3  14  11]\n",
      " [  6  41  17]]\n"
     ]
    }
   ],
   "source": [
    "print(matrix_b.T)"
   ]
  },
  {
   "cell_type": "code",
   "execution_count": 34,
   "id": "3e49b0b8",
   "metadata": {},
   "outputs": [
    {
     "name": "stdout",
     "output_type": "stream",
     "text": [
      "[[1 2 3]\n",
      " [4 5 6]\n",
      " [7 8 9]]\n"
     ]
    }
   ],
   "source": [
    "matrix_c = np.array([[1, 2, 3],\n",
    "                    [4, 5, 6],\n",
    "                    [7, 8, 9]])\n",
    "print(matrix_c)"
   ]
  },
  {
   "cell_type": "code",
   "execution_count": 36,
   "id": "9a26084b",
   "metadata": {},
   "outputs": [
    {
     "name": "stdout",
     "output_type": "stream",
     "text": [
      "[ 30  54 105  14  41  15  19  25  11  17]\n"
     ]
    }
   ],
   "source": [
    "vector_4 = np.concatenate((vector_2, vector_3))\n",
    "print(vector_4)"
   ]
  },
  {
   "cell_type": "code",
   "execution_count": 38,
   "id": "c9b815ea",
   "metadata": {},
   "outputs": [
    {
     "name": "stdout",
     "output_type": "stream",
     "text": [
      "[[  5  30  15]\n",
      " [  7  54  19]\n",
      " [ 10 105  25]\n",
      " [  3  14  11]\n",
      " [  6  41  17]\n",
      " [  5  30  15]\n",
      " [  7  54  19]\n",
      " [ 10 105  25]\n",
      " [  3  14  11]\n",
      " [  6  41  17]]\n"
     ]
    }
   ],
   "source": [
    "matrix_d = np.concatenate((matrix_a, matrix_b.T))\n",
    "print(matrix_d)"
   ]
  },
  {
   "cell_type": "code",
   "execution_count": 39,
   "id": "76c8b85f",
   "metadata": {},
   "outputs": [
    {
     "name": "stdout",
     "output_type": "stream",
     "text": [
      "[[  5   7  10   3   6]\n",
      " [ 30  54 105  14  41]\n",
      " [ 15  19  25  11  17]\n",
      " [  5   7  10   3   6]\n",
      " [ 30  54 105  14  41]\n",
      " [ 15  19  25  11  17]]\n"
     ]
    }
   ],
   "source": [
    "matrix_e = np.concatenate((matrix_a.T, matrix_b))\n",
    "print(matrix_e)"
   ]
  },
  {
   "cell_type": "code",
   "execution_count": 40,
   "id": "44064543",
   "metadata": {},
   "outputs": [
    {
     "name": "stdout",
     "output_type": "stream",
     "text": [
      "[ 0  1  2  3  4  5  6  7  8  9 10 11]\n"
     ]
    }
   ],
   "source": [
    "vector_x = np.arange(12)\n",
    "print(vector_x)"
   ]
  },
  {
   "cell_type": "code",
   "execution_count": 45,
   "id": "0f9bf0ab",
   "metadata": {},
   "outputs": [
    {
     "name": "stdout",
     "output_type": "stream",
     "text": [
      "[[ 0  1  2  3]\n",
      " [ 4  5  6  7]\n",
      " [ 8  9 10 11]]\n"
     ]
    }
   ],
   "source": [
    "matrix_x = np.reshape(vector_x, [3,4])\n",
    "print(matrix_x)"
   ]
  },
  {
   "cell_type": "code",
   "execution_count": 47,
   "id": "a712e9c4",
   "metadata": {},
   "outputs": [
    {
     "name": "stdout",
     "output_type": "stream",
     "text": [
      "[[ 0  1  2]\n",
      " [ 3  4  5]\n",
      " [ 6  7  8]\n",
      " [ 9 10 11]]\n"
     ]
    }
   ],
   "source": [
    "matrix_x = vector_x.reshape(4,3)\n",
    "print(matrix_x)"
   ]
  },
  {
   "cell_type": "code",
   "execution_count": 48,
   "id": "70387345",
   "metadata": {},
   "outputs": [
    {
     "name": "stdout",
     "output_type": "stream",
     "text": [
      "[[ 0  1]\n",
      " [ 2  3]\n",
      " [ 4  5]\n",
      " [ 6  7]\n",
      " [ 8  9]\n",
      " [10 11]]\n"
     ]
    }
   ],
   "source": [
    "matrix_x = vector_x.reshape(6,2)\n",
    "print(matrix_x)"
   ]
  },
  {
   "cell_type": "code",
   "execution_count": 51,
   "id": "8bc056c4",
   "metadata": {},
   "outputs": [
    {
     "name": "stdout",
     "output_type": "stream",
     "text": [
      "[ 1  3  5  7  9 11]\n"
     ]
    }
   ],
   "source": [
    "print(matrix_x[:,1])"
   ]
  },
  {
   "cell_type": "code",
   "execution_count": 82,
   "id": "1a77a327",
   "metadata": {},
   "outputs": [
    {
     "name": "stdout",
     "output_type": "stream",
     "text": [
      "[0 0 2 3 5 6 2 3 3 4 7 5 0 4 1 1 4 8 1 5]\n"
     ]
    }
   ],
   "source": [
    "rng = np.random.default_rng()\n",
    "rand_1 = rng.integers(0, 10, size=20)\n",
    "print(rand_1)"
   ]
  },
  {
   "cell_type": "code",
   "execution_count": 71,
   "id": "f5388ac4",
   "metadata": {},
   "outputs": [
    {
     "name": "stdout",
     "output_type": "stream",
     "text": [
      "[10 20 30 40 50 60 70 80]\n"
     ]
    }
   ],
   "source": [
    "pos = rand_1[rand_1>0]\n",
    "neg = rand_1[rand_1<0]\n",
    "even = rand_1[rand_1%2 == 0]\n",
    "special = rand_1[(rand_1%5 == 0) & (rand_1%2 == 0) & (rand_1>0)]\n",
    "#print(pos)\n",
    "#print(neg)\n",
    "#print(even)\n",
    "print(np.unique(special))"
   ]
  },
  {
   "cell_type": "code",
   "execution_count": 72,
   "id": "3b5fd24c",
   "metadata": {},
   "outputs": [
    {
     "name": "stdout",
     "output_type": "stream",
     "text": [
      "[[  5  30  15]\n",
      " [  7  54  19]\n",
      " [ 10 105  25]\n",
      " [  3  14  11]\n",
      " [  6  41  17]]\n"
     ]
    }
   ],
   "source": [
    "print(matrix_a)"
   ]
  },
  {
   "cell_type": "code",
   "execution_count": 77,
   "id": "02782b3f",
   "metadata": {},
   "outputs": [
    {
     "name": "stdout",
     "output_type": "stream",
     "text": [
      "[[[ 0  1]\n",
      "  [ 2  3]\n",
      "  [ 4  5]]\n",
      "\n",
      " [[ 6  7]\n",
      "  [ 8  9]\n",
      "  [10 11]]\n",
      "\n",
      " [[12 13]\n",
      "  [14 15]\n",
      "  [16 17]]]\n"
     ]
    }
   ],
   "source": [
    "my_mat = np.arange(18).reshape(3, 3, 2)\n",
    "print(my_mat)"
   ]
  },
  {
   "cell_type": "code",
   "execution_count": 78,
   "id": "1a5cd8f1",
   "metadata": {},
   "outputs": [
    {
     "name": "stdout",
     "output_type": "stream",
     "text": [
      "153\n",
      "[[18 21]\n",
      " [24 27]\n",
      " [30 33]]\n",
      "[[ 6  9]\n",
      " [24 27]\n",
      " [42 45]]\n",
      "[[ 1  5  9]\n",
      " [13 17 21]\n",
      " [25 29 33]]\n"
     ]
    }
   ],
   "source": [
    "print(my_mat.sum())\n",
    "print(my_mat.sum(axis=0))\n",
    "print(my_mat.sum(axis=1))\n",
    "print(my_mat.sum(axis=2))"
   ]
  },
  {
   "cell_type": "code",
   "execution_count": 85,
   "id": "bcf19fc6",
   "metadata": {},
   "outputs": [
    {
     "name": "stdout",
     "output_type": "stream",
     "text": [
      "[5 1 8 0 7 7 0 6 9 2 2 9 6 8 2 4 4 1 9 4]\n"
     ]
    }
   ],
   "source": [
    "rng = np.random.default_rng()\n",
    "rand_1 = rng.integers(0, 10, size=20)\n",
    "print(rand_1)"
   ]
  },
  {
   "cell_type": "code",
   "execution_count": 87,
   "id": "b8251320",
   "metadata": {},
   "outputs": [
    {
     "name": "stdout",
     "output_type": "stream",
     "text": [
      "0 appears 2 times\n",
      "1 appears 2 times\n",
      "2 appears 3 times\n",
      "4 appears 3 times\n",
      "5 appears 1 times\n",
      "6 appears 2 times\n",
      "7 appears 2 times\n",
      "8 appears 2 times\n",
      "9 appears 3 times\n"
     ]
    }
   ],
   "source": [
    "unique_vals, occurr_freq = np.unique(rand_1, return_counts=True)\n",
    "for i in range(len(unique_vals)):\n",
    "    print(f'{unique_vals[i]} appears {occurr_freq[i]} times')"
   ]
  },
  {
   "cell_type": "code",
   "execution_count": 88,
   "id": "79d0b1bc",
   "metadata": {},
   "outputs": [
    {
     "name": "stdout",
     "output_type": "stream",
     "text": [
      "[[0 1 2]\n",
      " [3 4 5]\n",
      " [6 7 8]]\n"
     ]
    }
   ],
   "source": [
    "my_mat = np.arange(9).reshape(3, 3)\n",
    "print(my_mat)"
   ]
  },
  {
   "cell_type": "code",
   "execution_count": 89,
   "id": "013935bb",
   "metadata": {},
   "outputs": [
    {
     "name": "stdout",
     "output_type": "stream",
     "text": [
      "[[ 0  4  8]\n",
      " [12 16 20]\n",
      " [24 28 32]]\n"
     ]
    }
   ],
   "source": [
    "print(4*my_mat)"
   ]
  },
  {
   "cell_type": "code",
   "execution_count": 101,
   "id": "8c7483ba",
   "metadata": {},
   "outputs": [
    {
     "name": "stdout",
     "output_type": "stream",
     "text": [
      "[38]\n",
      "[[ 2  3  5]\n",
      " [ 4  6 10]\n",
      " [12 18 30]]\n",
      "[38]\n"
     ]
    }
   ],
   "source": [
    "v_1 = np.array([2, 3, 5])\n",
    "v_2 = np.array([[1], [2], [6]])\n",
    "v_3 = np.dot(v_1, v_2)\n",
    "v_4 = v_1*v_2\n",
    "v_5 = v_1@v_2\n",
    "print(v_3)\n",
    "print(v_4)\n",
    "print(v_5)"
   ]
  },
  {
   "cell_type": "code",
   "execution_count": 102,
   "id": "a545b83b",
   "metadata": {},
   "outputs": [
    {
     "name": "stdout",
     "output_type": "stream",
     "text": [
      "[[ 1  4 -1]\n",
      " [-1 -3  2]\n",
      " [ 2 -1 -2]]\n"
     ]
    }
   ],
   "source": [
    "A = np.array([[1, 4, -1],\n",
    "             [-1, -3, 2],\n",
    "             [2, -1, -2]])\n",
    "print(A)"
   ]
  },
  {
   "cell_type": "code",
   "execution_count": 103,
   "id": "0323b98b",
   "metadata": {},
   "outputs": [],
   "source": [
    "b = np.array([-1, 2, -2])"
   ]
  },
  {
   "cell_type": "code",
   "execution_count": 104,
   "id": "ad4f4a5b",
   "metadata": {},
   "outputs": [
    {
     "name": "stdout",
     "output_type": "stream",
     "text": [
      "[0. 0. 1.]\n"
     ]
    }
   ],
   "source": [
    "x = np.linalg.solve(A, b)\n",
    "print(x)"
   ]
  },
  {
   "cell_type": "code",
   "execution_count": 105,
   "id": "cda05c68",
   "metadata": {},
   "outputs": [
    {
     "name": "stdout",
     "output_type": "stream",
     "text": [
      "[0. 0. 1.]\n"
     ]
    }
   ],
   "source": [
    "x = np.linalg.inv(A)@b\n",
    "print(x)"
   ]
  },
  {
   "cell_type": "markdown",
   "id": "d99733dd",
   "metadata": {},
   "source": [
    "## Matplotlib\n"
   ]
  },
  {
   "cell_type": "code",
   "execution_count": 2,
   "id": "f8d23c86",
   "metadata": {},
   "outputs": [],
   "source": [
    "import matplotlib.pyplot as plt\n",
    "\n"
   ]
  },
  {
   "cell_type": "code",
   "execution_count": 28,
   "id": "fdaa24a6",
   "metadata": {},
   "outputs": [],
   "source": [
    "expenses_jorge = [12000, 9000, 10000, 8600, 12000, 30000, 20000]\n",
    "expenses_brayan = [10000, 15000, 6000, 10000, 5000, 50000, 30000]\n",
    "expenses_stephanie = [10000, 10000, 10000, 10000, 10000, 30000, 0]\n",
    "\n",
    "income_jorge = [20000, 60000, 24000, 52000, 100000, 60000, 80000]\n",
    "income_brayan = [40000, 40000, 40000, 40000, 40000, 40000, 40000]\n",
    "income_stephanie = [10000, 10000, 10000, 10000, 10000, 30000, 0]\n",
    "\n",
    "days = [i for i in range(len(expenses))]"
   ]
  },
  {
   "cell_type": "code",
   "execution_count": 79,
   "id": "d0d34460",
   "metadata": {},
   "outputs": [
    {
     "data": {
      "image/png": "[encoded data removed]",
      "text/plain": [
       "<Figure size 720x720 with 2 Axes>"
      ]
     },
     "metadata": {
      "needs_background": "light"
     },
     "output_type": "display_data"
    }
   ],
   "source": [
    "plt.close('all')\n",
    "fig = plt.figure(figsize=(10,10))\n",
    "ax1 = plt.subplot(2, 1, 1)\n",
    "plt.plot(days, expenses_jorge, color='#7908a4', linestyle=':', marker='4')\n",
    "plt.plot(days, expenses_brayan, color='#05faa2', linestyle='-.', marker='+')\n",
    "plt.plot(days, expenses_stephanie, color='#eaffa9', linestyle='-', marker='*')\n",
    "plt.axis([min(days), max(days), min(expenses_brayan + expenses_jorge + expenses_stephanie), max(expenses_brayan + expenses_jorge + expenses_stephanie)])\n",
    "plt.title('Gastos Semanales')\n",
    "plt.xlabel('Día de la Semana')\n",
    "plt.ylabel('Valor [$COP]')\n",
    "plt.legend(['Jorge', 'Brayan', 'Stephanie'])\n",
    "ax1.set_xticks([1, 3, 5, 7])\n",
    "ax2 = plt.subplot(2, 1, 2)\n",
    "plt.plot(days, income_jorge, color='#7908a4', linestyle=':', marker='4', label='Jorge')\n",
    "plt.plot(days, income_brayan, color='#05faa2', linestyle='-.', marker='+', label='Brayan')\n",
    "plt.plot(days, income_stephanie, color='#eaffa9', linestyle='-', marker='*', label='Stephanie')\n",
    "plt.axis([min(days), max(days), min(income_brayan + income_jorge + income_stephanie), max(income_brayan + income_jorge + income_stephanie)])\n",
    "plt.title('Ingresos Semanales')\n",
    "plt.xlabel('Día de la Semana')\n",
    "plt.ylabel('Valor [$COP]')\n",
    "plt.legend(loc=2)\n",
    "weekdays = ['lunes', 'martes', 'miércoles', 'jueves', 'viernes', 'sabado', 'domingo']\n",
    "ax2.set_xticks(range(len(weekdays)))\n",
    "ax2.set_xticklabels(weekdays)\n",
    "ax2.grid()\n",
    "#plt.subplots_adjust(hspace=0.5)\n",
    "#plt.show()\n",
    "plt.savefig('my_plots.png')"
   ]
  },
  {
   "cell_type": "code",
   "execution_count": 11,
   "id": "ea190261",
   "metadata": {},
   "outputs": [
    {
     "data": {
      "image/png": "[encoded data removed]",
      "text/plain": [
       "<Figure size 432x288 with 1 Axes>"
      ]
     },
     "metadata": {
      "needs_background": "light"
     },
     "output_type": "display_data"
    }
   ],
   "source": [
    "fig = plt.figure(figsize=(6, 4))\n",
    "ax = plt.plot(days, expenses)\n",
    "plt.show()"
   ]
  },
  {
   "cell_type": "code",
   "execution_count": null,
   "id": "96beee34",
   "metadata": {},
   "outputs": [],
   "source": []
  }
 ],
 "metadata": {
  "kernelspec": {
   "display_name": "Python 3 (ipykernel)",
   "language": "python",
   "name": "python3"
  },
  "language_info": {
   "codemirror_mode": {
    "name": "ipython",
    "version": 3
   },
   "file_extension": ".py",
   "mimetype": "text/x-python",
   "name": "python",
   "nbconvert_exporter": "python",
   "pygments_lexer": "ipython3",
   "version": "3.9.12"
  }
 },
 "nbformat": 4,
 "nbformat_minor": 5
}
